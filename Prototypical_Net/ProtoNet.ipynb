{
  "nbformat": 4,
  "nbformat_minor": 0,
  "metadata": {
    "colab": {
      "provenance": [],
      "authorship_tag": "ABX9TyPBoTT5t2Y/fuXUP9FObPTv",
      "include_colab_link": true
    },
    "kernelspec": {
      "name": "python3",
      "display_name": "Python 3"
    },
    "language_info": {
      "name": "python"
    }
  },
  "cells": [
    {
      "cell_type": "markdown",
      "metadata": {
        "id": "view-in-github",
        "colab_type": "text"
      },
      "source": [
        "<a href=\"https://colab.research.google.com/github/Akhilesh-K-Yadav/Meta-Learning_Projects/blob/main/Prototypical_Net/ProtoNet.ipynb\" target=\"_parent\"><img src=\"https://colab.research.google.com/assets/colab-badge.svg\" alt=\"Open In Colab\"/></a>"
      ]
    },
    {
      "cell_type": "code",
      "execution_count": 18,
      "metadata": {
        "id": "NEEVnkBZzpjB"
      },
      "outputs": [],
      "source": [
        "import os\n",
        "import glob\n",
        "\n",
        "import google_drive_downloader as gdd\n",
        "import imageio\n",
        "import numpy as np\n",
        "import torch\n",
        "from sklearn.metrics import accuracy_score\n",
        "from torch.utils.data import dataset, sampler, dataloader\n",
        "from torch import nn\n",
        "import torch.nn.functional as F\n",
        "from torch import autograd\n",
        "import matplotlib.pyplot as plt\n",
        "from torch.utils import tensorboard\n",
        "#import pdb\n",
        "\n",
        "NUM_TRAIN_CLASSES = 1100\n",
        "NUM_VAL_CLASSES = 100\n",
        "NUM_TEST_CLASSES = 423\n",
        "NUM_SAMPLES_PER_CLASS = 20\n",
        "\n",
        "NUM_INPUT_CHANNELS = 1\n",
        "NUM_HIDDEN_CHANNELS = 64\n",
        "KERNEL_SIZE = 3\n",
        "NUM_CONV_LAYERS = 4\n",
        "DEVICE = 'cuda' if torch.cuda.is_available() else 'cpu'\n",
        "SUMMARY_INTERVAL = 10\n",
        "SAVE_INTERVAL = 100\n",
        "PRINT_INTERVAL = 10\n",
        "VAL_INTERVAL = PRINT_INTERVAL * 5\n",
        "NUM_TEST_TASKS = 600\n"
      ]
    },
    {
      "cell_type": "code",
      "source": [
        "BASE_PATH = './omniglot_resized'\n",
        "GDD_FILE_ID = '1iaSFXIYC3AB8q9K_M-oVMa4pmB7yKMtI'\n",
        "gdd.GoogleDriveDownloader.download_file_from_google_drive(\n",
        "                file_id=GDD_FILE_ID,\n",
        "                dest_path=f'{BASE_PATH}.zip',\n",
        "                unzip=True\n",
        "            )"
      ],
      "metadata": {
        "colab": {
          "base_uri": "https://localhost:8080/"
        },
        "id": "IvykCZKm0Hui",
        "outputId": "537024cb-461c-4358-ff2f-d24a3d443cf8"
      },
      "execution_count": 2,
      "outputs": [
        {
          "output_type": "stream",
          "name": "stdout",
          "text": [
            "Downloading 1iaSFXIYC3AB8q9K_M-oVMa4pmB7yKMtI into ./omniglot_resized.zip... Done.\n",
            "Unzipping...Done.\n"
          ]
        }
      ]
    },
    {
      "cell_type": "code",
      "source": [
        "def load_image(file_path):\n",
        "    \"\"\"Loads and transforms an Omniglot image.\n",
        "    Args:\n",
        "        file_path (str): file path of image\n",
        "    Returns:\n",
        "        a Tensor containing image data\n",
        "            shape (1, 28, 28)\n",
        "    \"\"\"\n",
        "    x = imageio.imread(file_path)\n",
        "    x = torch.tensor(x, dtype=torch.float32).reshape([1, 28, 28])\n",
        "    x = x / 255.0\n",
        "    return 1 - x"
      ],
      "metadata": {
        "id": "gUF4xomA0I4v"
      },
      "execution_count": 3,
      "outputs": []
    },
    {
      "cell_type": "code",
      "source": [
        "class OmniglotDataset(dataset.Dataset):\n",
        "    \"\"\"Omniglot dataset for meta-learning.\n",
        "\n",
        "    Each element of the dataset is a task. A task is specified with a key,\n",
        "    which is a tuple of class indices (no particular order). The corresponding\n",
        "    value is the instantiated task, which consists of sampled (image, label)\n",
        "    pairs.\n",
        "    \"\"\"\n",
        "\n",
        "    def __init__(self, num_support, num_query):\n",
        "        \"\"\"Inits OmniglotDataset.\n",
        "\n",
        "        Args:\n",
        "            num_support (int): number of support examples per class\n",
        "            num_query (int): number of query examples per class\n",
        "        \"\"\"\n",
        "        super().__init__()\n",
        "\n",
        "        # get all character folders\n",
        "        self._character_folders = glob.glob(\n",
        "            os.path.join(BASE_PATH, '*/*/'))\n",
        "        assert len(self._character_folders) == (\n",
        "            NUM_TRAIN_CLASSES + NUM_VAL_CLASSES + NUM_TEST_CLASSES\n",
        "        )\n",
        "\n",
        "        # shuffle characters\n",
        "        np.random.default_rng(0).shuffle(self._character_folders)\n",
        "\n",
        "        # check problem arguments\n",
        "        assert num_support + num_query <= NUM_SAMPLES_PER_CLASS\n",
        "        self._num_support = num_support\n",
        "        self._num_query = num_query\n",
        "\n",
        "    def __getitem__(self, class_idxs):\n",
        "        \"\"\"Constructs a task.\n",
        "\n",
        "        Data for each class is sampled uniformly at random without replacement.\n",
        "        The ordering of the labels corresponds to that of class_idxs.\n",
        "\n",
        "        Args:\n",
        "            class_idxs (tuple[int]): class indices that comprise the task\n",
        "\n",
        "        Returns:\n",
        "            images_support (Tensor): task support images\n",
        "                shape (num_way * num_support, channels, height, width)\n",
        "            labels_support (Tensor): task support labels\n",
        "                shape (num_way * num_support,)\n",
        "            images_query (Tensor): task query images\n",
        "                shape (num_way * num_query, channels, height, width)\n",
        "            labels_query (Tensor): task query labels\n",
        "                shape (num_way * num_query,)\n",
        "        \"\"\"\n",
        "        images_support, images_query = [], []\n",
        "        labels_support, labels_query = [], []\n",
        "\n",
        "        for label, class_idx in enumerate(class_idxs):\n",
        "            # get a class's examples and sample from them\n",
        "            all_file_paths = glob.glob(\n",
        "                os.path.join(self._character_folders[class_idx], '*.png')\n",
        "            )\n",
        "            sampled_file_paths = np.random.default_rng().choice(\n",
        "                all_file_paths,\n",
        "                size=self._num_support + self._num_query,\n",
        "                replace=False\n",
        "            )\n",
        "            images = [load_image(file_path) for file_path in sampled_file_paths]\n",
        "\n",
        "            # split sampled examples into support and query\n",
        "            images_support.extend(images[:self._num_support])\n",
        "            images_query.extend(images[self._num_support:])\n",
        "            labels_support.extend([label] * self._num_support)\n",
        "            labels_query.extend([label] * self._num_query)\n",
        "\n",
        "        # aggregate into tensors\n",
        "        images_support = torch.stack(images_support)  # shape (N*S, C, H, W)\n",
        "        labels_support = torch.tensor(labels_support)  # shape (N*S)\n",
        "        images_query = torch.stack(images_query)\n",
        "        labels_query = torch.tensor(labels_query)\n",
        "\n",
        "        return images_support, labels_support, images_query, labels_query\n"
      ],
      "metadata": {
        "id": "ALxfqljP0NaS"
      },
      "execution_count": 4,
      "outputs": []
    },
    {
      "cell_type": "code",
      "source": [
        "class OmniglotSampler(sampler.Sampler):\n",
        "    \"\"\"Samples task specification keys for an OmniglotDataset.\"\"\"\n",
        "\n",
        "    def __init__(self, split_idxs, num_way, num_tasks):\n",
        "\n",
        "      \"\"\"Inits OmniglotSampler.\n",
        "\n",
        "      Args:\n",
        "          split_idxs (range): indices that comprise the\n",
        "              training/validation/test split\n",
        "          num_way (int): number of classes per task\n",
        "          num_tasks (int): number of tasks to sample\n",
        "      \"\"\"\n",
        "      super().__init__(None)\n",
        "\n",
        "      self.split_idxs = split_idxs\n",
        "      self.num_way = num_way\n",
        "      self.num_tasks = num_tasks\n",
        "\n",
        "    def __iter__(self):\n",
        "      return (\n",
        "          np.random.default_rng().choice(\n",
        "              self.split_idxs,\n",
        "              size=self.num_way,\n",
        "              replace=False\n",
        "          ) for _ in range(self.num_tasks)\n",
        "      )\n",
        "\n",
        "    def __len__(self):\n",
        "        return self.num_tasks"
      ],
      "metadata": {
        "id": "dZp1Ws3c0Vnv"
      },
      "execution_count": 5,
      "outputs": []
    },
    {
      "cell_type": "code",
      "source": [
        "def identity(x):\n",
        "    return x\n",
        "\n",
        "def get_omniglot_dataloader(\n",
        "        split,\n",
        "        batch_size,\n",
        "        num_way,\n",
        "        num_support,\n",
        "        num_query,\n",
        "        num_tasks_per_epoch\n",
        "):\n",
        "    \"\"\"Returns a dataloader.DataLoader for Omniglot.\n",
        "\n",
        "    Args:\n",
        "        split (str): one of 'train', 'val', 'test'\n",
        "        batch_size (int): number of tasks per batch\n",
        "        num_way (int): number of classes per task\n",
        "        num_support (int): number of support examples per class\n",
        "        num_query (int): number of query examples per class\n",
        "        num_tasks_per_epoch (int): number of tasks before DataLoader is\n",
        "            exhausted\n",
        "    \"\"\"\n",
        "\n",
        "    if split == 'train':\n",
        "        split_idxs = range(NUM_TRAIN_CLASSES)\n",
        "    elif split == 'val':\n",
        "        split_idxs = range(\n",
        "            NUM_TRAIN_CLASSES,\n",
        "            NUM_TRAIN_CLASSES + NUM_VAL_CLASSES\n",
        "        )\n",
        "    elif split == 'test':\n",
        "        split_idxs = range(\n",
        "            NUM_TRAIN_CLASSES + NUM_VAL_CLASSES,\n",
        "            NUM_TRAIN_CLASSES + NUM_VAL_CLASSES + NUM_TEST_CLASSES\n",
        "        )\n",
        "    else:\n",
        "        raise ValueError\n",
        "\n",
        "    return dataloader.DataLoader(\n",
        "        dataset=OmniglotDataset(num_support, num_query),\n",
        "        batch_size=batch_size,\n",
        "        sampler=OmniglotSampler(split_idxs, num_way, num_tasks_per_epoch),\n",
        "        num_workers=2,\n",
        "        collate_fn=identity,\n",
        "        pin_memory=torch.cuda.is_available(),\n",
        "        drop_last=True\n",
        "    )"
      ],
      "metadata": {
        "id": "U7IolBbu0b4g"
      },
      "execution_count": 6,
      "outputs": []
    },
    {
      "cell_type": "code",
      "source": [
        "image = imageio.imread(\"/content/omniglot_resized/Alphabet_of_the_Magi/character01/0709_01.png\")\n",
        "image.shape"
      ],
      "metadata": {
        "colab": {
          "base_uri": "https://localhost:8080/"
        },
        "id": "bf2RzoS60n3C",
        "outputId": "8c9d5dd9-2f02-4b80-8027-bf44128eebad"
      },
      "execution_count": 7,
      "outputs": [
        {
          "output_type": "stream",
          "name": "stderr",
          "text": [
            "<ipython-input-7-913cf8e1afe4>:1: DeprecationWarning: Starting with ImageIO v3 the behavior of this function will switch to that of iio.v3.imread. To keep the current behavior (and make this warning disappear) use `import imageio.v2 as imageio` or call `imageio.v2.imread` directly.\n",
            "  image = imageio.imread(\"/content/omniglot_resized/Alphabet_of_the_Magi/character01/0709_01.png\")\n"
          ]
        },
        {
          "output_type": "execute_result",
          "data": {
            "text/plain": [
              "(28, 28)"
            ]
          },
          "metadata": {},
          "execution_count": 7
        }
      ]
    },
    {
      "cell_type": "code",
      "source": [
        "samples = get_omniglot_dataloader(\n",
        "        split='train',\n",
        "        batch_size=1,\n",
        "        num_way=4,\n",
        "        num_support=1,\n",
        "        num_query=1,\n",
        "        num_tasks_per_epoch=1\n",
        ")\n",
        "tasks = next(iter(samples))\n",
        "for task in tasks:\n",
        "  images_support, labels_support, images_query, labels_query = task\n",
        "images_support.shape, labels_support.shape, images_query.shape, labels_query.shape"
      ],
      "metadata": {
        "colab": {
          "base_uri": "https://localhost:8080/"
        },
        "id": "kqhq6xkQ0qre",
        "outputId": "1cb61cc5-d440-4799-fa46-e02b69dfb6ca"
      },
      "execution_count": 8,
      "outputs": [
        {
          "output_type": "stream",
          "name": "stderr",
          "text": [
            "<ipython-input-3-a6327f0e4a5e>:9: DeprecationWarning: Starting with ImageIO v3 the behavior of this function will switch to that of iio.v3.imread. To keep the current behavior (and make this warning disappear) use `import imageio.v2 as imageio` or call `imageio.v2.imread` directly.\n",
            "  x = imageio.imread(file_path)\n"
          ]
        },
        {
          "output_type": "execute_result",
          "data": {
            "text/plain": [
              "(torch.Size([4, 1, 28, 28]),\n",
              " torch.Size([4]),\n",
              " torch.Size([4, 1, 28, 28]),\n",
              " torch.Size([4]))"
            ]
          },
          "metadata": {},
          "execution_count": 8
        }
      ]
    },
    {
      "cell_type": "code",
      "source": [
        "plt.imshow(images_support[0][0])"
      ],
      "metadata": {
        "colab": {
          "base_uri": "https://localhost:8080/",
          "height": 447
        },
        "id": "O65bNVn10v0G",
        "outputId": "24a044e9-75ed-401a-f2ec-9367e432d49d"
      },
      "execution_count": 9,
      "outputs": [
        {
          "output_type": "execute_result",
          "data": {
            "text/plain": [
              "<matplotlib.image.AxesImage at 0x7fa66c0332b0>"
            ]
          },
          "metadata": {},
          "execution_count": 9
        },
        {
          "output_type": "display_data",
          "data": {
            "text/plain": [
              "<Figure size 640x480 with 1 Axes>"
            ],
            "image/png": "[encoded data removed]"
          },
          "metadata": {}
        }
      ]
    },
    {
      "cell_type": "code",
      "source": [
        "labels_support"
      ],
      "metadata": {
        "colab": {
          "base_uri": "https://localhost:8080/"
        },
        "id": "20N0o_wg02Yy",
        "outputId": "e2a963ad-fb82-4435-f4c5-177b9bd36b8c"
      },
      "execution_count": 10,
      "outputs": [
        {
          "output_type": "execute_result",
          "data": {
            "text/plain": [
              "tensor([0, 1, 2, 3])"
            ]
          },
          "metadata": {},
          "execution_count": 10
        }
      ]
    },
    {
      "cell_type": "code",
      "source": [
        "def score(logits, labels):\n",
        "    \"\"\"Returns the mean accuracy of a model's predictions on a set of examples.\n",
        "\n",
        "    Args:\n",
        "        logits (torch.Tensor): model predicted logits\n",
        "            shape (examples, classes)\n",
        "        labels (torch.Tensor): classification labels from 0 to num_classes - 1\n",
        "            shape (examples,)\n",
        "    \"\"\"\n",
        "\n",
        "\n",
        "    assert logits.dim() == 2\n",
        "    assert labels.dim() == 1\n",
        "    assert logits.shape[0] == labels.shape[0]\n",
        "    y = torch.argmax(logits, dim=-1) == labels\n",
        "    y = y.type(torch.float)\n",
        "    return torch.mean(y).item()"
      ],
      "metadata": {
        "id": "Z_wKatLO08LY"
      },
      "execution_count": 11,
      "outputs": []
    },
    {
      "cell_type": "code",
      "source": [
        "class ProtoNetNetwork(nn.Module):\n",
        "    \"\"\"Container for ProtoNet weights and image-to-latent computation.\"\"\"\n",
        "\n",
        "    def __init__(self):\n",
        "        \"\"\"Inits ProtoNetNetwork.\n",
        "\n",
        "        The network consists of four convolutional blocks, each comprising a\n",
        "        convolution layer, a batch normalization layer, ReLU activation, and 2x2\n",
        "        max pooling for downsampling. There is an additional flattening\n",
        "        operation at the end.\n",
        "\n",
        "        Note that unlike conventional use, batch normalization is always done\n",
        "        with batch statistics, regardless of whether we are training or\n",
        "        evaluating. This technically makes meta-learning transductive, as\n",
        "        opposed to inductive.\n",
        "        \"\"\"\n",
        "        super().__init__()\n",
        "        layers = []\n",
        "        in_channels = NUM_INPUT_CHANNELS\n",
        "        for _ in range(NUM_CONV_LAYERS):\n",
        "            layers.append(\n",
        "                nn.Conv2d(\n",
        "                    in_channels,\n",
        "                    NUM_HIDDEN_CHANNELS,\n",
        "                    (KERNEL_SIZE, KERNEL_SIZE),\n",
        "                    padding='same'\n",
        "                )\n",
        "            )\n",
        "            layers.append(nn.BatchNorm2d(NUM_HIDDEN_CHANNELS))\n",
        "            layers.append(nn.ReLU())\n",
        "            layers.append(nn.MaxPool2d(2))\n",
        "            in_channels = NUM_HIDDEN_CHANNELS\n",
        "        layers.append(nn.Flatten())\n",
        "        self._layers = nn.Sequential(*layers)\n",
        "        self.to(DEVICE)\n",
        "\n",
        "    def forward(self, images):\n",
        "        \"\"\"Computes the latent representation of a batch of images.\n",
        "\n",
        "        Args:\n",
        "            images (Tensor): batch of Omniglot images\n",
        "                shape (num_images, channels, height, width)\n",
        "\n",
        "        Returns:\n",
        "            a Tensor containing a batch of latent representations\n",
        "                shape (num_images, latents)\n",
        "        \"\"\"\n",
        "        return self._layers(images)\n"
      ],
      "metadata": {
        "id": "ckVpocCD1CFL"
      },
      "execution_count": 12,
      "outputs": []
    },
    {
      "cell_type": "code",
      "source": [
        "class ProtoNet:\n",
        "    \"\"\"Trains and assesses a prototypical network.\"\"\"\n",
        "\n",
        "    def __init__(self, learning_rate, log_dir):\n",
        "        \"\"\"Inits ProtoNet.\n",
        "\n",
        "        Args:\n",
        "            learning_rate (float): learning rate for the Adam optimizer\n",
        "            log_dir (str): path to logging directory\n",
        "        \"\"\"\n",
        "\n",
        "        self._network = ProtoNetNetwork()\n",
        "        self._optimizer = torch.optim.Adam(\n",
        "            self._network.parameters(),\n",
        "            lr=learning_rate\n",
        "        )\n",
        "        self._log_dir = log_dir\n",
        "        os.makedirs(self._log_dir, exist_ok=True)\n",
        "\n",
        "        self._start_train_step = 0\n",
        "\n",
        "    def _step(self, task_batch):\n",
        "        \"\"\"Computes ProtoNet mean loss (and accuracy) on a batch of tasks.\n",
        "\n",
        "        Args:\n",
        "            task_batch (tuple[Tensor, Tensor, Tensor, Tensor]):\n",
        "                batch of tasks from an Omniglot DataLoader\n",
        "\n",
        "        Returns:\n",
        "            a Tensor containing mean ProtoNet loss over the batch\n",
        "                shape ()\n",
        "            mean support set accuracy over the batch as a float\n",
        "            mean query set accuracy over the batch as a float\n",
        "        \"\"\"\n",
        "\n",
        "        loss_batch = []\n",
        "        accuracy_support_batch = []\n",
        "        accuracy_query_batch = []\n",
        "        for task in task_batch:\n",
        "            images_support, labels_support, images_query, labels_query = task\n",
        "            images_support = images_support.to(DEVICE)\n",
        "            labels_support = labels_support.to(DEVICE)\n",
        "            images_query = images_query.to(DEVICE)\n",
        "            labels_query = labels_query.to(DEVICE)\n",
        "            # For a given task, compute the prototypes and the protonet loss.\n",
        "            # F.cross_entropy to compute classification losses.\n",
        "            # score to compute accuracies.\n",
        "            # Populate loss_batch, accuracy_support_batch, and\n",
        "            # accuracy_query_batch.\n",
        "\n",
        "            # we need to compute all of the prototypes for all classes in the task training batch\n",
        "            supp_feats = self._network(images_support)\n",
        "\n",
        "            # get all classes, and then score\n",
        "            classes = torch.unique(labels_support, sorted=True)\n",
        "            means = []\n",
        "            for c in classes:\n",
        "                idxes = (labels_support == c).nonzero()\n",
        "                class_feats = supp_feats[idxes]\n",
        "                prototype = torch.mean(class_feats, dim=0)\n",
        "                means.append(prototype)\n",
        "\n",
        "            means = torch.cat(means)  # (num_classes, feature_dim)\n",
        "\n",
        "            # now to measure distances to all means\n",
        "            # (batch_size, feature_dim)\n",
        "            query_feats = self._network(images_query)\n",
        "            # (batch_size, num_classes, feature_dim)\n",
        "            query_feats = torch.stack([query_feats] * means.size(0), dim=1)\n",
        "\n",
        "            exp_means = means.expand(*query_feats.shape)\n",
        "\n",
        "            # (batch_size, num_classes, feature_dim)\n",
        "            query_diffs = query_feats - exp_means\n",
        "            # (batch_size, num_classes)\n",
        "            query_sq_norms = torch.norm(query_diffs, p=2, dim=-1).square()\n",
        "            query_logits = -query_sq_norms\n",
        "            # query_norms[i][j] = d(f_\\theta(x_i), c_j)\n",
        "\n",
        "            loss = F.cross_entropy(query_logits, labels_query)\n",
        "            loss_batch.append(loss)\n",
        "\n",
        "            # compute accuracies\n",
        "            query_acc =  score(query_logits, labels_query)\n",
        "            accuracy_query_batch.append(query_acc)\n",
        "\n",
        "            # (batch_size, num_classes, feature_dim)\n",
        "            supp_feats = torch.stack([supp_feats] * means.size(0), dim=1)\n",
        "\n",
        "            exp_means = means.expand(*supp_feats.shape)\n",
        "\n",
        "            # (batch_size, num_classes, feature_dim)\n",
        "            supp_diffs = supp_feats - exp_means\n",
        "            # (batch_size, num_classes)\n",
        "            supp_sq_norms = torch.norm(supp_diffs, p=2, dim=2).square()\n",
        "            supp_logits = -supp_sq_norms\n",
        "            supp_acc =  score(supp_logits, labels_support)\n",
        "            accuracy_support_batch.append(supp_acc)\n",
        "\n",
        "\n",
        "        return (\n",
        "            torch.mean(torch.stack(loss_batch)),\n",
        "            np.mean(accuracy_support_batch),\n",
        "            np.mean(accuracy_query_batch)\n",
        "        )\n",
        "\n",
        "    def train(self, dataloader_train, dataloader_val, writer):\n",
        "        \"\"\"Train the ProtoNet.\n",
        "\n",
        "        Consumes dataloader_train to optimize weights of ProtoNetNetwork\n",
        "        while periodically validating on dataloader_val, logging metrics, and\n",
        "        saving checkpoints.\n",
        "\n",
        "        Args:\n",
        "            dataloader_train (DataLoader): loader for train tasks\n",
        "            dataloader_val (DataLoader): loader for validation tasks\n",
        "            writer (SummaryWriter): TensorBoard logger\n",
        "        \"\"\"\n",
        "        print(f'Starting training at iteration {self._start_train_step}.')\n",
        "        for i_step, task_batch in enumerate(\n",
        "                dataloader_train,\n",
        "                start=self._start_train_step\n",
        "        ):\n",
        "            self._optimizer.zero_grad()\n",
        "            loss, accuracy_support, accuracy_query = self._step(task_batch)\n",
        "            loss.backward()\n",
        "            self._optimizer.step()\n",
        "\n",
        "            if i_step % PRINT_INTERVAL == 0:\n",
        "                print(\n",
        "                    f'Iteration {i_step}: '\n",
        "                    f'loss: {loss.item():.3f}, '\n",
        "                    f'support accuracy: {accuracy_support.item():.3f}, '\n",
        "                    f'query accuracy: {accuracy_query.item():.3f}'\n",
        "                )\n",
        "                writer.add_scalar('loss/train', loss.item(), i_step)\n",
        "                writer.add_scalar(\n",
        "                    'train_accuracy/support',\n",
        "                    accuracy_support.item(),\n",
        "                    i_step\n",
        "                )\n",
        "                writer.add_scalar(\n",
        "                    'train_accuracy/query',\n",
        "                    accuracy_query.item(),\n",
        "                    i_step\n",
        "                )\n",
        "\n",
        "            if i_step % VAL_INTERVAL == 0:\n",
        "                with torch.no_grad():\n",
        "                    losses, accuracies_support, accuracies_query = [], [], []\n",
        "                    for val_task_batch in dataloader_val:\n",
        "                        loss, accuracy_support, accuracy_query = (\n",
        "                            self._step(val_task_batch)\n",
        "                        )\n",
        "                        losses.append(loss.item())\n",
        "                        accuracies_support.append(accuracy_support)\n",
        "                        accuracies_query.append(accuracy_query)\n",
        "                    loss = np.mean(losses)\n",
        "                    accuracy_support = np.mean(accuracies_support)\n",
        "                    accuracy_query = np.mean(accuracies_query)\n",
        "                print(\n",
        "                    f'Validation: '\n",
        "                    f'loss: {loss:.3f}, '\n",
        "                    f'support accuracy: {accuracy_support:.3f}, '\n",
        "                    f'query accuracy: {accuracy_query:.3f}'\n",
        "                )\n",
        "                writer.add_scalar('loss/val', loss, i_step)\n",
        "                writer.add_scalar(\n",
        "                    'val_accuracy/support',\n",
        "                    accuracy_support,\n",
        "                    i_step\n",
        "                )\n",
        "                writer.add_scalar(\n",
        "                    'val_accuracy/query',\n",
        "                    accuracy_query,\n",
        "                    i_step\n",
        "                )\n",
        "\n",
        "            if i_step % SAVE_INTERVAL == 0:\n",
        "                self._save(i_step)\n",
        "\n",
        "    def test(self, dataloader_test):\n",
        "        \"\"\"Evaluate the ProtoNet on test tasks.\n",
        "\n",
        "        Args:\n",
        "            dataloader_test (DataLoader): loader for test tasks\n",
        "        \"\"\"\n",
        "        accuracies = []\n",
        "        for task_batch in dataloader_test:\n",
        "            accuracies.append(self._step(task_batch)[2])\n",
        "        mean = np.mean(accuracies)\n",
        "        std = np.std(accuracies)\n",
        "        mean_95_confidence_interval = 1.96 * std / np.sqrt(NUM_TEST_TASKS)\n",
        "        print(\n",
        "            f'Accuracy over {NUM_TEST_TASKS} test tasks: '\n",
        "            f'mean {mean:.3f}, '\n",
        "            f'95% confidence interval {mean_95_confidence_interval:.3f}'\n",
        "        )\n",
        "\n",
        "    def load(self, checkpoint_step):\n",
        "        \"\"\"Loads a checkpoint.\n",
        "\n",
        "        Args:\n",
        "            checkpoint_step (int): iteration of checkpoint to load\n",
        "\n",
        "        Raises:\n",
        "            ValueError: if checkpoint for checkpoint_step is not found\n",
        "        \"\"\"\n",
        "        target_path = (\n",
        "            f'{os.path.join(self._log_dir, \"state\")}'\n",
        "            f'{checkpoint_step}.pt'\n",
        "        )\n",
        "        if os.path.isfile(target_path):\n",
        "            state = torch.load(target_path)\n",
        "            self._network.load_state_dict(state['network_state_dict'])\n",
        "            self._optimizer.load_state_dict(state['optimizer_state_dict'])\n",
        "            self._start_train_step = checkpoint_step + 1\n",
        "            print(f'Loaded checkpoint iteration {checkpoint_step}.')\n",
        "        else:\n",
        "            raise ValueError(\n",
        "                f'No checkpoint for iteration {checkpoint_step} found.'\n",
        "            )\n",
        "\n",
        "    def _save(self, checkpoint_step):\n",
        "        \"\"\"Saves network and optimizer state_dicts as a checkpoint.\n",
        "\n",
        "        Args:\n",
        "            checkpoint_step (int): iteration to label checkpoint with\n",
        "        \"\"\"\n",
        "        torch.save(\n",
        "            dict(network_state_dict=self._network.state_dict(),\n",
        "                 optimizer_state_dict=self._optimizer.state_dict()),\n",
        "            f'{os.path.join(self._log_dir, \"state\")}{checkpoint_step}.pt'\n",
        "        )\n",
        "        print('Saved checkpoint.')\n"
      ],
      "metadata": {
        "id": "LPxb-b1g3Cf2"
      },
      "execution_count": 17,
      "outputs": []
    },
    {
      "cell_type": "code",
      "source": [
        "def main():\n",
        "    log_dir = None\n",
        "    num_way = 5\n",
        "    num_support = 2\n",
        "    num_query = 3\n",
        "    learning_rate = 0.001\n",
        "    batch_size = 5\n",
        "    num_train_iterations = 10000\n",
        "    test = False\n",
        "    checkpoint_step = -1\n",
        "\n",
        "    if log_dir is None:\n",
        "        log_dir = f'./logs/protonet/omniglot.way:{ num_way}.support:{ num_support}.query:{ num_query}.lr:{ learning_rate}.batch_size:{ batch_size}'\n",
        "    print(f'log_dir: {log_dir}')\n",
        "    writer = tensorboard.SummaryWriter(log_dir=log_dir)\n",
        "\n",
        "    protonet = ProtoNet( learning_rate, log_dir)\n",
        "\n",
        "    if  checkpoint_step > -1:\n",
        "        protonet.load( checkpoint_step)\n",
        "    else:\n",
        "        print('Checkpoint loading skipped.')\n",
        "\n",
        "    if not  test:\n",
        "        num_training_tasks =  batch_size * ( num_train_iterations -\n",
        "                                                 checkpoint_step - 1)\n",
        "        print(\n",
        "            f'Training on tasks with composition '\n",
        "            f'num_way={ num_way}, '\n",
        "            f'num_support={ num_support}, '\n",
        "            f'num_query={ num_query}'\n",
        "        )\n",
        "        dataloader_train = get_omniglot_dataloader(\n",
        "            'train',\n",
        "            batch_size,\n",
        "            num_way,\n",
        "            num_support,\n",
        "            num_query,\n",
        "            num_training_tasks\n",
        "        )\n",
        "        dataloader_val = get_omniglot_dataloader(\n",
        "            'val',\n",
        "            batch_size,\n",
        "            num_way,\n",
        "            num_support,\n",
        "            num_query,\n",
        "            batch_size * 4\n",
        "        )\n",
        "        protonet.train(\n",
        "            dataloader_train,\n",
        "            dataloader_val,\n",
        "            writer\n",
        "        )\n",
        "    else:\n",
        "        print(\n",
        "            f'Testing on tasks with composition '\n",
        "            f'num_way={ num_way}, '\n",
        "            f'num_support={num_support}, '\n",
        "            f'num_query={num_query}'\n",
        "        )\n",
        "        dataloader_test = get_omniglot_dataloader(\n",
        "            'test',\n",
        "            1,\n",
        "            num_way,\n",
        "            num_support,\n",
        "            num_query,\n",
        "            NUM_TEST_TASKS\n",
        "        )\n",
        "        protonet.test(dataloader_test)"
      ],
      "metadata": {
        "id": "zt1gqocf3Ny-"
      },
      "execution_count": 14,
      "outputs": []
    },
    {
      "cell_type": "code",
      "source": [
        "main()"
      ],
      "metadata": {
        "colab": {
          "base_uri": "https://localhost:8080/",
          "height": 1000
        },
        "id": "JoU5v2Wn3Uye",
        "outputId": "c21cb9b8-b00b-4233-f0a9-24dcbcb7be14"
      },
      "execution_count": 19,
      "outputs": [
        {
          "output_type": "stream",
          "name": "stdout",
          "text": [
            "log_dir: ./logs/protonet/omniglot.way:5.support:2.query:3.lr:0.001.batch_size:5\n",
            "Checkpoint loading skipped.\n",
            "Training on tasks with composition num_way=5, num_support=2, num_query=3\n",
            "Starting training at iteration 0.\n"
          ]
        },
        {
          "output_type": "stream",
          "name": "stderr",
          "text": [
            "<ipython-input-3-a6327f0e4a5e>:9: DeprecationWarning: Starting with ImageIO v3 the behavior of this function will switch to that of iio.v3.imread. To keep the current behavior (and make this warning disappear) use `import imageio.v2 as imageio` or call `imageio.v2.imread` directly.\n",
            "  x = imageio.imread(file_path)\n",
            "<ipython-input-3-a6327f0e4a5e>:9: DeprecationWarning: Starting with ImageIO v3 the behavior of this function will switch to that of iio.v3.imread. To keep the current behavior (and make this warning disappear) use `import imageio.v2 as imageio` or call `imageio.v2.imread` directly.\n",
            "  x = imageio.imread(file_path)\n"
          ]
        },
        {
          "output_type": "stream",
          "name": "stdout",
          "text": [
            "Iteration 0: loss: 1.607, support accuracy: 0.980, query accuracy: 0.680\n"
          ]
        },
        {
          "output_type": "stream",
          "name": "stderr",
          "text": [
            "<ipython-input-3-a6327f0e4a5e>:9: DeprecationWarning: Starting with ImageIO v3 the behavior of this function will switch to that of iio.v3.imread. To keep the current behavior (and make this warning disappear) use `import imageio.v2 as imageio` or call `imageio.v2.imread` directly.\n",
            "  x = imageio.imread(file_path)\n",
            "<ipython-input-3-a6327f0e4a5e>:9: DeprecationWarning: Starting with ImageIO v3 the behavior of this function will switch to that of iio.v3.imread. To keep the current behavior (and make this warning disappear) use `import imageio.v2 as imageio` or call `imageio.v2.imread` directly.\n",
            "  x = imageio.imread(file_path)\n"
          ]
        },
        {
          "output_type": "stream",
          "name": "stdout",
          "text": [
            "Validation: loss: 1.605, support accuracy: 0.995, query accuracy: 0.687\n",
            "Saved checkpoint.\n",
            "Iteration 10: loss: 1.297, support accuracy: 1.000, query accuracy: 0.773\n",
            "Iteration 20: loss: 1.043, support accuracy: 0.900, query accuracy: 0.600\n",
            "Iteration 30: loss: 0.820, support accuracy: 0.960, query accuracy: 0.693\n",
            "Iteration 40: loss: 0.823, support accuracy: 0.980, query accuracy: 0.653\n",
            "Iteration 50: loss: 0.802, support accuracy: 0.940, query accuracy: 0.667\n"
          ]
        },
        {
          "output_type": "stream",
          "name": "stderr",
          "text": [
            "<ipython-input-3-a6327f0e4a5e>:9: DeprecationWarning: Starting with ImageIO v3 the behavior of this function will switch to that of iio.v3.imread. To keep the current behavior (and make this warning disappear) use `import imageio.v2 as imageio` or call `imageio.v2.imread` directly.\n",
            "  x = imageio.imread(file_path)\n",
            "<ipython-input-3-a6327f0e4a5e>:9: DeprecationWarning: Starting with ImageIO v3 the behavior of this function will switch to that of iio.v3.imread. To keep the current behavior (and make this warning disappear) use `import imageio.v2 as imageio` or call `imageio.v2.imread` directly.\n",
            "  x = imageio.imread(file_path)\n"
          ]
        },
        {
          "output_type": "stream",
          "name": "stdout",
          "text": [
            "Validation: loss: 0.675, support accuracy: 0.980, query accuracy: 0.753\n",
            "Iteration 60: loss: 0.695, support accuracy: 1.000, query accuracy: 0.800\n",
            "Iteration 70: loss: 0.844, support accuracy: 1.000, query accuracy: 0.733\n",
            "Iteration 80: loss: 0.663, support accuracy: 0.960, query accuracy: 0.707\n",
            "Iteration 90: loss: 0.565, support accuracy: 0.980, query accuracy: 0.787\n",
            "Iteration 100: loss: 0.540, support accuracy: 1.000, query accuracy: 0.827\n"
          ]
        },
        {
          "output_type": "stream",
          "name": "stderr",
          "text": [
            "<ipython-input-3-a6327f0e4a5e>:9: DeprecationWarning: Starting with ImageIO v3 the behavior of this function will switch to that of iio.v3.imread. To keep the current behavior (and make this warning disappear) use `import imageio.v2 as imageio` or call `imageio.v2.imread` directly.\n",
            "  x = imageio.imread(file_path)\n",
            "<ipython-input-3-a6327f0e4a5e>:9: DeprecationWarning: Starting with ImageIO v3 the behavior of this function will switch to that of iio.v3.imread. To keep the current behavior (and make this warning disappear) use `import imageio.v2 as imageio` or call `imageio.v2.imread` directly.\n",
            "  x = imageio.imread(file_path)\n"
          ]
        },
        {
          "output_type": "stream",
          "name": "stdout",
          "text": [
            "Validation: loss: 0.530, support accuracy: 0.970, query accuracy: 0.813\n",
            "Saved checkpoint.\n",
            "Iteration 110: loss: 0.607, support accuracy: 0.940, query accuracy: 0.787\n",
            "Iteration 120: loss: 0.562, support accuracy: 1.000, query accuracy: 0.853\n",
            "Iteration 130: loss: 0.735, support accuracy: 1.000, query accuracy: 0.747\n",
            "Iteration 140: loss: 0.473, support accuracy: 1.000, query accuracy: 0.827\n",
            "Iteration 150: loss: 0.734, support accuracy: 0.980, query accuracy: 0.707\n"
          ]
        },
        {
          "output_type": "stream",
          "name": "stderr",
          "text": [
            "<ipython-input-3-a6327f0e4a5e>:9: DeprecationWarning: Starting with ImageIO v3 the behavior of this function will switch to that of iio.v3.imread. To keep the current behavior (and make this warning disappear) use `import imageio.v2 as imageio` or call `imageio.v2.imread` directly.\n",
            "  x = imageio.imread(file_path)\n",
            "<ipython-input-3-a6327f0e4a5e>:9: DeprecationWarning: Starting with ImageIO v3 the behavior of this function will switch to that of iio.v3.imread. To keep the current behavior (and make this warning disappear) use `import imageio.v2 as imageio` or call `imageio.v2.imread` directly.\n",
            "  x = imageio.imread(file_path)\n"
          ]
        },
        {
          "output_type": "stream",
          "name": "stdout",
          "text": [
            "Validation: loss: 0.586, support accuracy: 0.985, query accuracy: 0.793\n",
            "Iteration 160: loss: 0.287, support accuracy: 1.000, query accuracy: 0.880\n",
            "Iteration 170: loss: 0.520, support accuracy: 1.000, query accuracy: 0.827\n",
            "Iteration 180: loss: 0.784, support accuracy: 1.000, query accuracy: 0.840\n",
            "Iteration 190: loss: 0.847, support accuracy: 0.960, query accuracy: 0.720\n",
            "Iteration 200: loss: 0.687, support accuracy: 0.980, query accuracy: 0.773\n"
          ]
        },
        {
          "output_type": "stream",
          "name": "stderr",
          "text": [
            "<ipython-input-3-a6327f0e4a5e>:9: DeprecationWarning: Starting with ImageIO v3 the behavior of this function will switch to that of iio.v3.imread. To keep the current behavior (and make this warning disappear) use `import imageio.v2 as imageio` or call `imageio.v2.imread` directly.\n",
            "  x = imageio.imread(file_path)\n",
            "<ipython-input-3-a6327f0e4a5e>:9: DeprecationWarning: Starting with ImageIO v3 the behavior of this function will switch to that of iio.v3.imread. To keep the current behavior (and make this warning disappear) use `import imageio.v2 as imageio` or call `imageio.v2.imread` directly.\n",
            "  x = imageio.imread(file_path)\n"
          ]
        },
        {
          "output_type": "stream",
          "name": "stdout",
          "text": [
            "Validation: loss: 0.522, support accuracy: 1.000, query accuracy: 0.823\n",
            "Saved checkpoint.\n",
            "Iteration 210: loss: 0.473, support accuracy: 1.000, query accuracy: 0.827\n",
            "Iteration 220: loss: 0.491, support accuracy: 0.980, query accuracy: 0.787\n",
            "Iteration 230: loss: 0.606, support accuracy: 0.940, query accuracy: 0.813\n",
            "Iteration 240: loss: 0.473, support accuracy: 1.000, query accuracy: 0.827\n",
            "Iteration 250: loss: 0.930, support accuracy: 1.000, query accuracy: 0.840\n"
          ]
        },
        {
          "output_type": "stream",
          "name": "stderr",
          "text": [
            "<ipython-input-3-a6327f0e4a5e>:9: DeprecationWarning: Starting with ImageIO v3 the behavior of this function will switch to that of iio.v3.imread. To keep the current behavior (and make this warning disappear) use `import imageio.v2 as imageio` or call `imageio.v2.imread` directly.\n",
            "  x = imageio.imread(file_path)\n",
            "<ipython-input-3-a6327f0e4a5e>:9: DeprecationWarning: Starting with ImageIO v3 the behavior of this function will switch to that of iio.v3.imread. To keep the current behavior (and make this warning disappear) use `import imageio.v2 as imageio` or call `imageio.v2.imread` directly.\n",
            "  x = imageio.imread(file_path)\n"
          ]
        },
        {
          "output_type": "stream",
          "name": "stdout",
          "text": [
            "Validation: loss: 0.507, support accuracy: 0.990, query accuracy: 0.813\n",
            "Iteration 260: loss: 0.858, support accuracy: 0.980, query accuracy: 0.720\n",
            "Iteration 270: loss: 0.439, support accuracy: 0.980, query accuracy: 0.827\n",
            "Iteration 280: loss: 0.548, support accuracy: 1.000, query accuracy: 0.813\n",
            "Iteration 290: loss: 0.310, support accuracy: 0.980, query accuracy: 0.907\n",
            "Iteration 300: loss: 0.525, support accuracy: 1.000, query accuracy: 0.867\n"
          ]
        },
        {
          "output_type": "stream",
          "name": "stderr",
          "text": [
            "<ipython-input-3-a6327f0e4a5e>:9: DeprecationWarning: Starting with ImageIO v3 the behavior of this function will switch to that of iio.v3.imread. To keep the current behavior (and make this warning disappear) use `import imageio.v2 as imageio` or call `imageio.v2.imread` directly.\n",
            "  x = imageio.imread(file_path)\n",
            "<ipython-input-3-a6327f0e4a5e>:9: DeprecationWarning: Starting with ImageIO v3 the behavior of this function will switch to that of iio.v3.imread. To keep the current behavior (and make this warning disappear) use `import imageio.v2 as imageio` or call `imageio.v2.imread` directly.\n",
            "  x = imageio.imread(file_path)\n"
          ]
        },
        {
          "output_type": "stream",
          "name": "stdout",
          "text": [
            "Validation: loss: 0.419, support accuracy: 1.000, query accuracy: 0.867\n",
            "Saved checkpoint.\n",
            "Iteration 310: loss: 0.357, support accuracy: 0.980, query accuracy: 0.853\n",
            "Iteration 320: loss: 0.668, support accuracy: 0.980, query accuracy: 0.760\n",
            "Iteration 330: loss: 0.449, support accuracy: 1.000, query accuracy: 0.813\n",
            "Iteration 340: loss: 0.664, support accuracy: 0.980, query accuracy: 0.773\n",
            "Iteration 350: loss: 0.580, support accuracy: 0.980, query accuracy: 0.760\n"
          ]
        },
        {
          "output_type": "stream",
          "name": "stderr",
          "text": [
            "<ipython-input-3-a6327f0e4a5e>:9: DeprecationWarning: Starting with ImageIO v3 the behavior of this function will switch to that of iio.v3.imread. To keep the current behavior (and make this warning disappear) use `import imageio.v2 as imageio` or call `imageio.v2.imread` directly.\n",
            "  x = imageio.imread(file_path)\n",
            "<ipython-input-3-a6327f0e4a5e>:9: DeprecationWarning: Starting with ImageIO v3 the behavior of this function will switch to that of iio.v3.imread. To keep the current behavior (and make this warning disappear) use `import imageio.v2 as imageio` or call `imageio.v2.imread` directly.\n",
            "  x = imageio.imread(file_path)\n"
          ]
        },
        {
          "output_type": "stream",
          "name": "stdout",
          "text": [
            "Validation: loss: 0.555, support accuracy: 0.990, query accuracy: 0.837\n",
            "Iteration 360: loss: 0.546, support accuracy: 0.960, query accuracy: 0.813\n",
            "Iteration 370: loss: 0.372, support accuracy: 1.000, query accuracy: 0.880\n",
            "Iteration 380: loss: 0.309, support accuracy: 1.000, query accuracy: 0.907\n",
            "Iteration 390: loss: 0.361, support accuracy: 1.000, query accuracy: 0.813\n",
            "Iteration 400: loss: 0.505, support accuracy: 1.000, query accuracy: 0.840\n"
          ]
        },
        {
          "output_type": "stream",
          "name": "stderr",
          "text": [
            "<ipython-input-3-a6327f0e4a5e>:9: DeprecationWarning: Starting with ImageIO v3 the behavior of this function will switch to that of iio.v3.imread. To keep the current behavior (and make this warning disappear) use `import imageio.v2 as imageio` or call `imageio.v2.imread` directly.\n",
            "  x = imageio.imread(file_path)\n",
            "<ipython-input-3-a6327f0e4a5e>:9: DeprecationWarning: Starting with ImageIO v3 the behavior of this function will switch to that of iio.v3.imread. To keep the current behavior (and make this warning disappear) use `import imageio.v2 as imageio` or call `imageio.v2.imread` directly.\n",
            "  x = imageio.imread(file_path)\n"
          ]
        },
        {
          "output_type": "stream",
          "name": "stdout",
          "text": [
            "Validation: loss: 0.357, support accuracy: 0.990, query accuracy: 0.863\n",
            "Saved checkpoint.\n",
            "Iteration 410: loss: 1.104, support accuracy: 0.980, query accuracy: 0.760\n",
            "Iteration 420: loss: 0.363, support accuracy: 0.980, query accuracy: 0.880\n",
            "Iteration 430: loss: 0.368, support accuracy: 1.000, query accuracy: 0.840\n",
            "Iteration 440: loss: 0.439, support accuracy: 1.000, query accuracy: 0.867\n",
            "Iteration 450: loss: 0.353, support accuracy: 1.000, query accuracy: 0.867\n"
          ]
        },
        {
          "output_type": "stream",
          "name": "stderr",
          "text": [
            "<ipython-input-3-a6327f0e4a5e>:9: DeprecationWarning: Starting with ImageIO v3 the behavior of this function will switch to that of iio.v3.imread. To keep the current behavior (and make this warning disappear) use `import imageio.v2 as imageio` or call `imageio.v2.imread` directly.\n",
            "  x = imageio.imread(file_path)\n",
            "<ipython-input-3-a6327f0e4a5e>:9: DeprecationWarning: Starting with ImageIO v3 the behavior of this function will switch to that of iio.v3.imread. To keep the current behavior (and make this warning disappear) use `import imageio.v2 as imageio` or call `imageio.v2.imread` directly.\n",
            "  x = imageio.imread(file_path)\n"
          ]
        },
        {
          "output_type": "stream",
          "name": "stdout",
          "text": [
            "Validation: loss: 0.303, support accuracy: 0.990, query accuracy: 0.907\n",
            "Iteration 460: loss: 0.349, support accuracy: 1.000, query accuracy: 0.880\n",
            "Iteration 470: loss: 0.130, support accuracy: 1.000, query accuracy: 0.960\n",
            "Iteration 480: loss: 0.323, support accuracy: 1.000, query accuracy: 0.853\n",
            "Iteration 490: loss: 0.290, support accuracy: 1.000, query accuracy: 0.893\n",
            "Iteration 500: loss: 0.511, support accuracy: 1.000, query accuracy: 0.827\n"
          ]
        },
        {
          "output_type": "stream",
          "name": "stderr",
          "text": [
            "<ipython-input-3-a6327f0e4a5e>:9: DeprecationWarning: Starting with ImageIO v3 the behavior of this function will switch to that of iio.v3.imread. To keep the current behavior (and make this warning disappear) use `import imageio.v2 as imageio` or call `imageio.v2.imread` directly.\n",
            "  x = imageio.imread(file_path)\n",
            "<ipython-input-3-a6327f0e4a5e>:9: DeprecationWarning: Starting with ImageIO v3 the behavior of this function will switch to that of iio.v3.imread. To keep the current behavior (and make this warning disappear) use `import imageio.v2 as imageio` or call `imageio.v2.imread` directly.\n",
            "  x = imageio.imread(file_path)\n"
          ]
        },
        {
          "output_type": "stream",
          "name": "stdout",
          "text": [
            "Validation: loss: 0.328, support accuracy: 1.000, query accuracy: 0.877\n",
            "Saved checkpoint.\n",
            "Iteration 510: loss: 0.693, support accuracy: 1.000, query accuracy: 0.707\n",
            "Iteration 520: loss: 0.582, support accuracy: 0.980, query accuracy: 0.827\n",
            "Iteration 530: loss: 0.378, support accuracy: 1.000, query accuracy: 0.880\n",
            "Iteration 540: loss: 0.328, support accuracy: 1.000, query accuracy: 0.867\n",
            "Iteration 550: loss: 0.483, support accuracy: 1.000, query accuracy: 0.800\n"
          ]
        },
        {
          "output_type": "stream",
          "name": "stderr",
          "text": [
            "<ipython-input-3-a6327f0e4a5e>:9: DeprecationWarning: Starting with ImageIO v3 the behavior of this function will switch to that of iio.v3.imread. To keep the current behavior (and make this warning disappear) use `import imageio.v2 as imageio` or call `imageio.v2.imread` directly.\n",
            "  x = imageio.imread(file_path)\n",
            "<ipython-input-3-a6327f0e4a5e>:9: DeprecationWarning: Starting with ImageIO v3 the behavior of this function will switch to that of iio.v3.imread. To keep the current behavior (and make this warning disappear) use `import imageio.v2 as imageio` or call `imageio.v2.imread` directly.\n",
            "  x = imageio.imread(file_path)\n"
          ]
        },
        {
          "output_type": "stream",
          "name": "stdout",
          "text": [
            "Validation: loss: 0.394, support accuracy: 0.995, query accuracy: 0.890\n",
            "Iteration 560: loss: 0.332, support accuracy: 1.000, query accuracy: 0.853\n",
            "Iteration 570: loss: 0.548, support accuracy: 0.980, query accuracy: 0.773\n",
            "Iteration 580: loss: 0.317, support accuracy: 1.000, query accuracy: 0.907\n",
            "Iteration 590: loss: 0.281, support accuracy: 1.000, query accuracy: 0.933\n",
            "Iteration 600: loss: 0.436, support accuracy: 1.000, query accuracy: 0.853\n"
          ]
        },
        {
          "output_type": "stream",
          "name": "stderr",
          "text": [
            "<ipython-input-3-a6327f0e4a5e>:9: DeprecationWarning: Starting with ImageIO v3 the behavior of this function will switch to that of iio.v3.imread. To keep the current behavior (and make this warning disappear) use `import imageio.v2 as imageio` or call `imageio.v2.imread` directly.\n",
            "  x = imageio.imread(file_path)\n",
            "<ipython-input-3-a6327f0e4a5e>:9: DeprecationWarning: Starting with ImageIO v3 the behavior of this function will switch to that of iio.v3.imread. To keep the current behavior (and make this warning disappear) use `import imageio.v2 as imageio` or call `imageio.v2.imread` directly.\n",
            "  x = imageio.imread(file_path)\n"
          ]
        },
        {
          "output_type": "stream",
          "name": "stdout",
          "text": [
            "Validation: loss: 0.425, support accuracy: 0.995, query accuracy: 0.837\n",
            "Saved checkpoint.\n",
            "Iteration 610: loss: 0.510, support accuracy: 0.980, query accuracy: 0.853\n",
            "Iteration 620: loss: 0.304, support accuracy: 1.000, query accuracy: 0.880\n",
            "Iteration 630: loss: 0.226, support accuracy: 1.000, query accuracy: 0.947\n",
            "Iteration 640: loss: 0.498, support accuracy: 0.980, query accuracy: 0.867\n",
            "Iteration 650: loss: 0.368, support accuracy: 1.000, query accuracy: 0.867\n"
          ]
        },
        {
          "output_type": "stream",
          "name": "stderr",
          "text": [
            "<ipython-input-3-a6327f0e4a5e>:9: DeprecationWarning: Starting with ImageIO v3 the behavior of this function will switch to that of iio.v3.imread. To keep the current behavior (and make this warning disappear) use `import imageio.v2 as imageio` or call `imageio.v2.imread` directly.\n",
            "  x = imageio.imread(file_path)\n",
            "<ipython-input-3-a6327f0e4a5e>:9: DeprecationWarning: Starting with ImageIO v3 the behavior of this function will switch to that of iio.v3.imread. To keep the current behavior (and make this warning disappear) use `import imageio.v2 as imageio` or call `imageio.v2.imread` directly.\n",
            "  x = imageio.imread(file_path)\n"
          ]
        },
        {
          "output_type": "stream",
          "name": "stdout",
          "text": [
            "Validation: loss: 0.396, support accuracy: 1.000, query accuracy: 0.853\n",
            "Iteration 660: loss: 0.216, support accuracy: 1.000, query accuracy: 0.973\n",
            "Iteration 670: loss: 0.381, support accuracy: 1.000, query accuracy: 0.840\n",
            "Iteration 680: loss: 0.412, support accuracy: 1.000, query accuracy: 0.880\n",
            "Iteration 690: loss: 0.409, support accuracy: 1.000, query accuracy: 0.867\n",
            "Iteration 700: loss: 0.285, support accuracy: 0.980, query accuracy: 0.920\n"
          ]
        },
        {
          "output_type": "stream",
          "name": "stderr",
          "text": [
            "<ipython-input-3-a6327f0e4a5e>:9: DeprecationWarning: Starting with ImageIO v3 the behavior of this function will switch to that of iio.v3.imread. To keep the current behavior (and make this warning disappear) use `import imageio.v2 as imageio` or call `imageio.v2.imread` directly.\n",
            "  x = imageio.imread(file_path)\n",
            "<ipython-input-3-a6327f0e4a5e>:9: DeprecationWarning: Starting with ImageIO v3 the behavior of this function will switch to that of iio.v3.imread. To keep the current behavior (and make this warning disappear) use `import imageio.v2 as imageio` or call `imageio.v2.imread` directly.\n",
            "  x = imageio.imread(file_path)\n"
          ]
        },
        {
          "output_type": "stream",
          "name": "stdout",
          "text": [
            "Validation: loss: 0.283, support accuracy: 1.000, query accuracy: 0.907\n",
            "Saved checkpoint.\n",
            "Iteration 710: loss: 0.332, support accuracy: 1.000, query accuracy: 0.893\n",
            "Iteration 720: loss: 0.171, support accuracy: 1.000, query accuracy: 0.920\n",
            "Iteration 730: loss: 0.387, support accuracy: 1.000, query accuracy: 0.867\n",
            "Iteration 740: loss: 0.426, support accuracy: 1.000, query accuracy: 0.800\n",
            "Iteration 750: loss: 0.693, support accuracy: 1.000, query accuracy: 0.827\n"
          ]
        },
        {
          "output_type": "stream",
          "name": "stderr",
          "text": [
            "<ipython-input-3-a6327f0e4a5e>:9: DeprecationWarning: Starting with ImageIO v3 the behavior of this function will switch to that of iio.v3.imread. To keep the current behavior (and make this warning disappear) use `import imageio.v2 as imageio` or call `imageio.v2.imread` directly.\n",
            "  x = imageio.imread(file_path)\n",
            "<ipython-input-3-a6327f0e4a5e>:9: DeprecationWarning: Starting with ImageIO v3 the behavior of this function will switch to that of iio.v3.imread. To keep the current behavior (and make this warning disappear) use `import imageio.v2 as imageio` or call `imageio.v2.imread` directly.\n",
            "  x = imageio.imread(file_path)\n"
          ]
        },
        {
          "output_type": "stream",
          "name": "stdout",
          "text": [
            "Validation: loss: 0.353, support accuracy: 0.995, query accuracy: 0.887\n",
            "Iteration 760: loss: 0.464, support accuracy: 1.000, query accuracy: 0.813\n",
            "Iteration 770: loss: 0.317, support accuracy: 1.000, query accuracy: 0.893\n",
            "Iteration 780: loss: 0.382, support accuracy: 1.000, query accuracy: 0.867\n",
            "Iteration 790: loss: 0.199, support accuracy: 1.000, query accuracy: 0.893\n",
            "Iteration 800: loss: 0.224, support accuracy: 0.980, query accuracy: 0.893\n"
          ]
        },
        {
          "output_type": "stream",
          "name": "stderr",
          "text": [
            "<ipython-input-3-a6327f0e4a5e>:9: DeprecationWarning: Starting with ImageIO v3 the behavior of this function will switch to that of iio.v3.imread. To keep the current behavior (and make this warning disappear) use `import imageio.v2 as imageio` or call `imageio.v2.imread` directly.\n",
            "  x = imageio.imread(file_path)\n",
            "<ipython-input-3-a6327f0e4a5e>:9: DeprecationWarning: Starting with ImageIO v3 the behavior of this function will switch to that of iio.v3.imread. To keep the current behavior (and make this warning disappear) use `import imageio.v2 as imageio` or call `imageio.v2.imread` directly.\n",
            "  x = imageio.imread(file_path)\n"
          ]
        },
        {
          "output_type": "stream",
          "name": "stdout",
          "text": [
            "Validation: loss: 0.387, support accuracy: 0.990, query accuracy: 0.883\n",
            "Saved checkpoint.\n",
            "Iteration 810: loss: 0.151, support accuracy: 1.000, query accuracy: 0.973\n",
            "Iteration 820: loss: 0.329, support accuracy: 1.000, query accuracy: 0.867\n",
            "Iteration 830: loss: 0.382, support accuracy: 1.000, query accuracy: 0.880\n",
            "Iteration 840: loss: 0.323, support accuracy: 1.000, query accuracy: 0.880\n",
            "Iteration 850: loss: 0.343, support accuracy: 1.000, query accuracy: 0.867\n"
          ]
        },
        {
          "output_type": "stream",
          "name": "stderr",
          "text": [
            "<ipython-input-3-a6327f0e4a5e>:9: DeprecationWarning: Starting with ImageIO v3 the behavior of this function will switch to that of iio.v3.imread. To keep the current behavior (and make this warning disappear) use `import imageio.v2 as imageio` or call `imageio.v2.imread` directly.\n",
            "  x = imageio.imread(file_path)\n",
            "<ipython-input-3-a6327f0e4a5e>:9: DeprecationWarning: Starting with ImageIO v3 the behavior of this function will switch to that of iio.v3.imread. To keep the current behavior (and make this warning disappear) use `import imageio.v2 as imageio` or call `imageio.v2.imread` directly.\n",
            "  x = imageio.imread(file_path)\n"
          ]
        },
        {
          "output_type": "stream",
          "name": "stdout",
          "text": [
            "Validation: loss: 0.250, support accuracy: 0.995, query accuracy: 0.897\n",
            "Iteration 860: loss: 0.285, support accuracy: 1.000, query accuracy: 0.907\n",
            "Iteration 870: loss: 0.307, support accuracy: 0.960, query accuracy: 0.920\n",
            "Iteration 880: loss: 0.193, support accuracy: 1.000, query accuracy: 0.933\n",
            "Iteration 890: loss: 0.289, support accuracy: 1.000, query accuracy: 0.880\n",
            "Iteration 900: loss: 0.209, support accuracy: 1.000, query accuracy: 0.920\n"
          ]
        },
        {
          "output_type": "stream",
          "name": "stderr",
          "text": [
            "<ipython-input-3-a6327f0e4a5e>:9: DeprecationWarning: Starting with ImageIO v3 the behavior of this function will switch to that of iio.v3.imread. To keep the current behavior (and make this warning disappear) use `import imageio.v2 as imageio` or call `imageio.v2.imread` directly.\n",
            "  x = imageio.imread(file_path)\n",
            "<ipython-input-3-a6327f0e4a5e>:9: DeprecationWarning: Starting with ImageIO v3 the behavior of this function will switch to that of iio.v3.imread. To keep the current behavior (and make this warning disappear) use `import imageio.v2 as imageio` or call `imageio.v2.imread` directly.\n",
            "  x = imageio.imread(file_path)\n"
          ]
        },
        {
          "output_type": "stream",
          "name": "stdout",
          "text": [
            "Validation: loss: 0.335, support accuracy: 1.000, query accuracy: 0.883\n",
            "Saved checkpoint.\n",
            "Iteration 910: loss: 0.296, support accuracy: 1.000, query accuracy: 0.853\n",
            "Iteration 920: loss: 0.311, support accuracy: 1.000, query accuracy: 0.933\n",
            "Iteration 930: loss: 0.167, support accuracy: 0.980, query accuracy: 0.960\n",
            "Iteration 940: loss: 0.205, support accuracy: 1.000, query accuracy: 0.960\n",
            "Iteration 950: loss: 0.178, support accuracy: 1.000, query accuracy: 0.960\n"
          ]
        },
        {
          "output_type": "stream",
          "name": "stderr",
          "text": [
            "<ipython-input-3-a6327f0e4a5e>:9: DeprecationWarning: Starting with ImageIO v3 the behavior of this function will switch to that of iio.v3.imread. To keep the current behavior (and make this warning disappear) use `import imageio.v2 as imageio` or call `imageio.v2.imread` directly.\n",
            "  x = imageio.imread(file_path)\n",
            "<ipython-input-3-a6327f0e4a5e>:9: DeprecationWarning: Starting with ImageIO v3 the behavior of this function will switch to that of iio.v3.imread. To keep the current behavior (and make this warning disappear) use `import imageio.v2 as imageio` or call `imageio.v2.imread` directly.\n",
            "  x = imageio.imread(file_path)\n"
          ]
        },
        {
          "output_type": "stream",
          "name": "stdout",
          "text": [
            "Validation: loss: 0.210, support accuracy: 0.995, query accuracy: 0.927\n",
            "Iteration 960: loss: 0.157, support accuracy: 1.000, query accuracy: 0.960\n",
            "Iteration 970: loss: 0.116, support accuracy: 1.000, query accuracy: 0.987\n",
            "Iteration 980: loss: 0.526, support accuracy: 1.000, query accuracy: 0.853\n",
            "Iteration 990: loss: 0.166, support accuracy: 1.000, query accuracy: 0.933\n",
            "Iteration 1000: loss: 0.177, support accuracy: 1.000, query accuracy: 0.933\n"
          ]
        },
        {
          "output_type": "stream",
          "name": "stderr",
          "text": [
            "<ipython-input-3-a6327f0e4a5e>:9: DeprecationWarning: Starting with ImageIO v3 the behavior of this function will switch to that of iio.v3.imread. To keep the current behavior (and make this warning disappear) use `import imageio.v2 as imageio` or call `imageio.v2.imread` directly.\n",
            "  x = imageio.imread(file_path)\n",
            "<ipython-input-3-a6327f0e4a5e>:9: DeprecationWarning: Starting with ImageIO v3 the behavior of this function will switch to that of iio.v3.imread. To keep the current behavior (and make this warning disappear) use `import imageio.v2 as imageio` or call `imageio.v2.imread` directly.\n",
            "  x = imageio.imread(file_path)\n"
          ]
        },
        {
          "output_type": "stream",
          "name": "stdout",
          "text": [
            "Validation: loss: 0.273, support accuracy: 1.000, query accuracy: 0.903\n",
            "Saved checkpoint.\n",
            "Iteration 1010: loss: 0.190, support accuracy: 1.000, query accuracy: 0.933\n",
            "Iteration 1020: loss: 0.196, support accuracy: 1.000, query accuracy: 0.947\n",
            "Iteration 1030: loss: 0.207, support accuracy: 1.000, query accuracy: 0.920\n",
            "Iteration 1040: loss: 0.189, support accuracy: 1.000, query accuracy: 0.933\n",
            "Iteration 1050: loss: 0.096, support accuracy: 1.000, query accuracy: 0.987\n"
          ]
        },
        {
          "output_type": "stream",
          "name": "stderr",
          "text": [
            "<ipython-input-3-a6327f0e4a5e>:9: DeprecationWarning: Starting with ImageIO v3 the behavior of this function will switch to that of iio.v3.imread. To keep the current behavior (and make this warning disappear) use `import imageio.v2 as imageio` or call `imageio.v2.imread` directly.\n",
            "  x = imageio.imread(file_path)\n",
            "<ipython-input-3-a6327f0e4a5e>:9: DeprecationWarning: Starting with ImageIO v3 the behavior of this function will switch to that of iio.v3.imread. To keep the current behavior (and make this warning disappear) use `import imageio.v2 as imageio` or call `imageio.v2.imread` directly.\n",
            "  x = imageio.imread(file_path)\n"
          ]
        },
        {
          "output_type": "stream",
          "name": "stdout",
          "text": [
            "Validation: loss: 0.221, support accuracy: 1.000, query accuracy: 0.923\n",
            "Iteration 1060: loss: 0.429, support accuracy: 1.000, query accuracy: 0.853\n",
            "Iteration 1070: loss: 0.196, support accuracy: 1.000, query accuracy: 0.933\n",
            "Iteration 1080: loss: 0.112, support accuracy: 1.000, query accuracy: 0.960\n",
            "Iteration 1090: loss: 0.249, support accuracy: 1.000, query accuracy: 0.893\n",
            "Iteration 1100: loss: 0.201, support accuracy: 1.000, query accuracy: 0.907\n"
          ]
        },
        {
          "output_type": "stream",
          "name": "stderr",
          "text": [
            "<ipython-input-3-a6327f0e4a5e>:9: DeprecationWarning: Starting with ImageIO v3 the behavior of this function will switch to that of iio.v3.imread. To keep the current behavior (and make this warning disappear) use `import imageio.v2 as imageio` or call `imageio.v2.imread` directly.\n",
            "  x = imageio.imread(file_path)\n",
            "<ipython-input-3-a6327f0e4a5e>:9: DeprecationWarning: Starting with ImageIO v3 the behavior of this function will switch to that of iio.v3.imread. To keep the current behavior (and make this warning disappear) use `import imageio.v2 as imageio` or call `imageio.v2.imread` directly.\n",
            "  x = imageio.imread(file_path)\n"
          ]
        },
        {
          "output_type": "stream",
          "name": "stdout",
          "text": [
            "Validation: loss: 0.205, support accuracy: 1.000, query accuracy: 0.927\n",
            "Saved checkpoint.\n",
            "Iteration 1110: loss: 0.120, support accuracy: 1.000, query accuracy: 0.973\n",
            "Iteration 1120: loss: 0.118, support accuracy: 1.000, query accuracy: 0.973\n",
            "Iteration 1130: loss: 0.071, support accuracy: 1.000, query accuracy: 0.960\n",
            "Iteration 1140: loss: 0.146, support accuracy: 1.000, query accuracy: 0.947\n",
            "Iteration 1150: loss: 0.137, support accuracy: 1.000, query accuracy: 0.920\n"
          ]
        },
        {
          "output_type": "stream",
          "name": "stderr",
          "text": [
            "<ipython-input-3-a6327f0e4a5e>:9: DeprecationWarning: Starting with ImageIO v3 the behavior of this function will switch to that of iio.v3.imread. To keep the current behavior (and make this warning disappear) use `import imageio.v2 as imageio` or call `imageio.v2.imread` directly.\n",
            "  x = imageio.imread(file_path)\n",
            "<ipython-input-3-a6327f0e4a5e>:9: DeprecationWarning: Starting with ImageIO v3 the behavior of this function will switch to that of iio.v3.imread. To keep the current behavior (and make this warning disappear) use `import imageio.v2 as imageio` or call `imageio.v2.imread` directly.\n",
            "  x = imageio.imread(file_path)\n"
          ]
        },
        {
          "output_type": "stream",
          "name": "stdout",
          "text": [
            "Validation: loss: 0.110, support accuracy: 0.995, query accuracy: 0.970\n",
            "Iteration 1160: loss: 0.168, support accuracy: 1.000, query accuracy: 0.947\n",
            "Iteration 1170: loss: 0.109, support accuracy: 1.000, query accuracy: 0.947\n",
            "Iteration 1180: loss: 0.297, support accuracy: 0.980, query accuracy: 0.880\n",
            "Iteration 1190: loss: 0.113, support accuracy: 1.000, query accuracy: 0.960\n",
            "Iteration 1200: loss: 0.422, support accuracy: 0.980, query accuracy: 0.907\n"
          ]
        },
        {
          "output_type": "stream",
          "name": "stderr",
          "text": [
            "<ipython-input-3-a6327f0e4a5e>:9: DeprecationWarning: Starting with ImageIO v3 the behavior of this function will switch to that of iio.v3.imread. To keep the current behavior (and make this warning disappear) use `import imageio.v2 as imageio` or call `imageio.v2.imread` directly.\n",
            "  x = imageio.imread(file_path)\n",
            "<ipython-input-3-a6327f0e4a5e>:9: DeprecationWarning: Starting with ImageIO v3 the behavior of this function will switch to that of iio.v3.imread. To keep the current behavior (and make this warning disappear) use `import imageio.v2 as imageio` or call `imageio.v2.imread` directly.\n",
            "  x = imageio.imread(file_path)\n"
          ]
        },
        {
          "output_type": "stream",
          "name": "stdout",
          "text": [
            "Validation: loss: 0.111, support accuracy: 1.000, query accuracy: 0.950\n",
            "Saved checkpoint.\n",
            "Iteration 1210: loss: 0.231, support accuracy: 1.000, query accuracy: 0.907\n",
            "Iteration 1220: loss: 0.213, support accuracy: 1.000, query accuracy: 0.933\n",
            "Iteration 1230: loss: 0.110, support accuracy: 1.000, query accuracy: 0.987\n"
          ]
        },
        {
          "output_type": "error",
          "ename": "KeyboardInterrupt",
          "evalue": "ignored",
          "traceback": [
            "\u001b[0;31m---------------------------------------------------------------------------\u001b[0m",
            "\u001b[0;31mKeyboardInterrupt\u001b[0m                         Traceback (most recent call last)",
            "\u001b[0;32m<ipython-input-19-263240bbee7e>\u001b[0m in \u001b[0;36m<cell line: 1>\u001b[0;34m()\u001b[0m\n\u001b[0;32m----> 1\u001b[0;31m \u001b[0mmain\u001b[0m\u001b[0;34m(\u001b[0m\u001b[0;34m)\u001b[0m\u001b[0;34m\u001b[0m\u001b[0;34m\u001b[0m\u001b[0m\n\u001b[0m",
            "\u001b[0;32m<ipython-input-14-d9b1abb9a541>\u001b[0m in \u001b[0;36mmain\u001b[0;34m()\u001b[0m\n\u001b[1;32m     47\u001b[0m             \u001b[0mbatch_size\u001b[0m \u001b[0;34m*\u001b[0m \u001b[0;36m4\u001b[0m\u001b[0;34m\u001b[0m\u001b[0;34m\u001b[0m\u001b[0m\n\u001b[1;32m     48\u001b[0m         )\n\u001b[0;32m---> 49\u001b[0;31m         protonet.train(\n\u001b[0m\u001b[1;32m     50\u001b[0m             \u001b[0mdataloader_train\u001b[0m\u001b[0;34m,\u001b[0m\u001b[0;34m\u001b[0m\u001b[0;34m\u001b[0m\u001b[0m\n\u001b[1;32m     51\u001b[0m             \u001b[0mdataloader_val\u001b[0m\u001b[0;34m,\u001b[0m\u001b[0;34m\u001b[0m\u001b[0;34m\u001b[0m\u001b[0m\n",
            "\u001b[0;32m<ipython-input-17-99437fc1984c>\u001b[0m in \u001b[0;36mtrain\u001b[0;34m(self, dataloader_train, dataloader_val, writer)\u001b[0m\n\u001b[1;32m    123\u001b[0m         ):\n\u001b[1;32m    124\u001b[0m             \u001b[0mself\u001b[0m\u001b[0;34m.\u001b[0m\u001b[0m_optimizer\u001b[0m\u001b[0;34m.\u001b[0m\u001b[0mzero_grad\u001b[0m\u001b[0;34m(\u001b[0m\u001b[0;34m)\u001b[0m\u001b[0;34m\u001b[0m\u001b[0;34m\u001b[0m\u001b[0m\n\u001b[0;32m--> 125\u001b[0;31m             \u001b[0mloss\u001b[0m\u001b[0;34m,\u001b[0m \u001b[0maccuracy_support\u001b[0m\u001b[0;34m,\u001b[0m \u001b[0maccuracy_query\u001b[0m \u001b[0;34m=\u001b[0m \u001b[0mself\u001b[0m\u001b[0;34m.\u001b[0m\u001b[0m_step\u001b[0m\u001b[0;34m(\u001b[0m\u001b[0mtask_batch\u001b[0m\u001b[0;34m)\u001b[0m\u001b[0;34m\u001b[0m\u001b[0;34m\u001b[0m\u001b[0m\n\u001b[0m\u001b[1;32m    126\u001b[0m             \u001b[0mloss\u001b[0m\u001b[0;34m.\u001b[0m\u001b[0mbackward\u001b[0m\u001b[0;34m(\u001b[0m\u001b[0;34m)\u001b[0m\u001b[0;34m\u001b[0m\u001b[0;34m\u001b[0m\u001b[0m\n\u001b[1;32m    127\u001b[0m             \u001b[0mself\u001b[0m\u001b[0;34m.\u001b[0m\u001b[0m_optimizer\u001b[0m\u001b[0;34m.\u001b[0m\u001b[0mstep\u001b[0m\u001b[0;34m(\u001b[0m\u001b[0;34m)\u001b[0m\u001b[0;34m\u001b[0m\u001b[0;34m\u001b[0m\u001b[0m\n",
            "\u001b[0;32m<ipython-input-17-99437fc1984c>\u001b[0m in \u001b[0;36m_step\u001b[0;34m(self, task_batch)\u001b[0m\n\u001b[1;32m     65\u001b[0m             \u001b[0;31m# now to measure distances to all means\u001b[0m\u001b[0;34m\u001b[0m\u001b[0;34m\u001b[0m\u001b[0m\n\u001b[1;32m     66\u001b[0m             \u001b[0;31m# (batch_size, feature_dim)\u001b[0m\u001b[0;34m\u001b[0m\u001b[0;34m\u001b[0m\u001b[0m\n\u001b[0;32m---> 67\u001b[0;31m             \u001b[0mquery_feats\u001b[0m \u001b[0;34m=\u001b[0m \u001b[0mself\u001b[0m\u001b[0;34m.\u001b[0m\u001b[0m_network\u001b[0m\u001b[0;34m(\u001b[0m\u001b[0mimages_query\u001b[0m\u001b[0;34m)\u001b[0m\u001b[0;34m\u001b[0m\u001b[0;34m\u001b[0m\u001b[0m\n\u001b[0m\u001b[1;32m     68\u001b[0m             \u001b[0;31m# (batch_size, num_classes, feature_dim)\u001b[0m\u001b[0;34m\u001b[0m\u001b[0;34m\u001b[0m\u001b[0m\n\u001b[1;32m     69\u001b[0m             \u001b[0mquery_feats\u001b[0m \u001b[0;34m=\u001b[0m \u001b[0mtorch\u001b[0m\u001b[0;34m.\u001b[0m\u001b[0mstack\u001b[0m\u001b[0;34m(\u001b[0m\u001b[0;34m[\u001b[0m\u001b[0mquery_feats\u001b[0m\u001b[0;34m]\u001b[0m \u001b[0;34m*\u001b[0m \u001b[0mmeans\u001b[0m\u001b[0;34m.\u001b[0m\u001b[0msize\u001b[0m\u001b[0;34m(\u001b[0m\u001b[0;36m0\u001b[0m\u001b[0;34m)\u001b[0m\u001b[0;34m,\u001b[0m \u001b[0mdim\u001b[0m\u001b[0;34m=\u001b[0m\u001b[0;36m1\u001b[0m\u001b[0;34m)\u001b[0m\u001b[0;34m\u001b[0m\u001b[0;34m\u001b[0m\u001b[0m\n",
            "\u001b[0;32m/usr/local/lib/python3.10/dist-packages/torch/nn/modules/module.py\u001b[0m in \u001b[0;36m_call_impl\u001b[0;34m(self, *args, **kwargs)\u001b[0m\n\u001b[1;32m   1499\u001b[0m                 \u001b[0;32mor\u001b[0m \u001b[0m_global_backward_pre_hooks\u001b[0m \u001b[0;32mor\u001b[0m \u001b[0m_global_backward_hooks\u001b[0m\u001b[0;34m\u001b[0m\u001b[0;34m\u001b[0m\u001b[0m\n\u001b[1;32m   1500\u001b[0m                 or _global_forward_hooks or _global_forward_pre_hooks):\n\u001b[0;32m-> 1501\u001b[0;31m             \u001b[0;32mreturn\u001b[0m \u001b[0mforward_call\u001b[0m\u001b[0;34m(\u001b[0m\u001b[0;34m*\u001b[0m\u001b[0margs\u001b[0m\u001b[0;34m,\u001b[0m \u001b[0;34m**\u001b[0m\u001b[0mkwargs\u001b[0m\u001b[0;34m)\u001b[0m\u001b[0;34m\u001b[0m\u001b[0;34m\u001b[0m\u001b[0m\n\u001b[0m\u001b[1;32m   1502\u001b[0m         \u001b[0;31m# Do not call functions when jit is used\u001b[0m\u001b[0;34m\u001b[0m\u001b[0;34m\u001b[0m\u001b[0m\n\u001b[1;32m   1503\u001b[0m         \u001b[0mfull_backward_hooks\u001b[0m\u001b[0;34m,\u001b[0m \u001b[0mnon_full_backward_hooks\u001b[0m \u001b[0;34m=\u001b[0m \u001b[0;34m[\u001b[0m\u001b[0;34m]\u001b[0m\u001b[0;34m,\u001b[0m \u001b[0;34m[\u001b[0m\u001b[0;34m]\u001b[0m\u001b[0;34m\u001b[0m\u001b[0;34m\u001b[0m\u001b[0m\n",
            "\u001b[0;32m<ipython-input-12-eaf9aecd3a87>\u001b[0m in \u001b[0;36mforward\u001b[0;34m(self, images)\u001b[0m\n\u001b[1;32m     46\u001b[0m                 \u001b[0mshape\u001b[0m \u001b[0;34m(\u001b[0m\u001b[0mnum_images\u001b[0m\u001b[0;34m,\u001b[0m \u001b[0mlatents\u001b[0m\u001b[0;34m)\u001b[0m\u001b[0;34m\u001b[0m\u001b[0;34m\u001b[0m\u001b[0m\n\u001b[1;32m     47\u001b[0m         \"\"\"\n\u001b[0;32m---> 48\u001b[0;31m         \u001b[0;32mreturn\u001b[0m \u001b[0mself\u001b[0m\u001b[0;34m.\u001b[0m\u001b[0m_layers\u001b[0m\u001b[0;34m(\u001b[0m\u001b[0mimages\u001b[0m\u001b[0;34m)\u001b[0m\u001b[0;34m\u001b[0m\u001b[0;34m\u001b[0m\u001b[0m\n\u001b[0m",
            "\u001b[0;32m/usr/local/lib/python3.10/dist-packages/torch/nn/modules/module.py\u001b[0m in \u001b[0;36m_call_impl\u001b[0;34m(self, *args, **kwargs)\u001b[0m\n\u001b[1;32m   1499\u001b[0m                 \u001b[0;32mor\u001b[0m \u001b[0m_global_backward_pre_hooks\u001b[0m \u001b[0;32mor\u001b[0m \u001b[0m_global_backward_hooks\u001b[0m\u001b[0;34m\u001b[0m\u001b[0;34m\u001b[0m\u001b[0m\n\u001b[1;32m   1500\u001b[0m                 or _global_forward_hooks or _global_forward_pre_hooks):\n\u001b[0;32m-> 1501\u001b[0;31m             \u001b[0;32mreturn\u001b[0m \u001b[0mforward_call\u001b[0m\u001b[0;34m(\u001b[0m\u001b[0;34m*\u001b[0m\u001b[0margs\u001b[0m\u001b[0;34m,\u001b[0m \u001b[0;34m**\u001b[0m\u001b[0mkwargs\u001b[0m\u001b[0;34m)\u001b[0m\u001b[0;34m\u001b[0m\u001b[0;34m\u001b[0m\u001b[0m\n\u001b[0m\u001b[1;32m   1502\u001b[0m         \u001b[0;31m# Do not call functions when jit is used\u001b[0m\u001b[0;34m\u001b[0m\u001b[0;34m\u001b[0m\u001b[0m\n\u001b[1;32m   1503\u001b[0m         \u001b[0mfull_backward_hooks\u001b[0m\u001b[0;34m,\u001b[0m \u001b[0mnon_full_backward_hooks\u001b[0m \u001b[0;34m=\u001b[0m \u001b[0;34m[\u001b[0m\u001b[0;34m]\u001b[0m\u001b[0;34m,\u001b[0m \u001b[0;34m[\u001b[0m\u001b[0;34m]\u001b[0m\u001b[0;34m\u001b[0m\u001b[0;34m\u001b[0m\u001b[0m\n",
            "\u001b[0;32m/usr/local/lib/python3.10/dist-packages/torch/nn/modules/container.py\u001b[0m in \u001b[0;36mforward\u001b[0;34m(self, input)\u001b[0m\n\u001b[1;32m    215\u001b[0m     \u001b[0;32mdef\u001b[0m \u001b[0mforward\u001b[0m\u001b[0;34m(\u001b[0m\u001b[0mself\u001b[0m\u001b[0;34m,\u001b[0m \u001b[0minput\u001b[0m\u001b[0;34m)\u001b[0m\u001b[0;34m:\u001b[0m\u001b[0;34m\u001b[0m\u001b[0;34m\u001b[0m\u001b[0m\n\u001b[1;32m    216\u001b[0m         \u001b[0;32mfor\u001b[0m \u001b[0mmodule\u001b[0m \u001b[0;32min\u001b[0m \u001b[0mself\u001b[0m\u001b[0;34m:\u001b[0m\u001b[0;34m\u001b[0m\u001b[0;34m\u001b[0m\u001b[0m\n\u001b[0;32m--> 217\u001b[0;31m             \u001b[0minput\u001b[0m \u001b[0;34m=\u001b[0m \u001b[0mmodule\u001b[0m\u001b[0;34m(\u001b[0m\u001b[0minput\u001b[0m\u001b[0;34m)\u001b[0m\u001b[0;34m\u001b[0m\u001b[0;34m\u001b[0m\u001b[0m\n\u001b[0m\u001b[1;32m    218\u001b[0m         \u001b[0;32mreturn\u001b[0m \u001b[0minput\u001b[0m\u001b[0;34m\u001b[0m\u001b[0;34m\u001b[0m\u001b[0m\n\u001b[1;32m    219\u001b[0m \u001b[0;34m\u001b[0m\u001b[0m\n",
            "\u001b[0;32m/usr/local/lib/python3.10/dist-packages/torch/nn/modules/module.py\u001b[0m in \u001b[0;36m_call_impl\u001b[0;34m(self, *args, **kwargs)\u001b[0m\n\u001b[1;32m   1499\u001b[0m                 \u001b[0;32mor\u001b[0m \u001b[0m_global_backward_pre_hooks\u001b[0m \u001b[0;32mor\u001b[0m \u001b[0m_global_backward_hooks\u001b[0m\u001b[0;34m\u001b[0m\u001b[0;34m\u001b[0m\u001b[0m\n\u001b[1;32m   1500\u001b[0m                 or _global_forward_hooks or _global_forward_pre_hooks):\n\u001b[0;32m-> 1501\u001b[0;31m             \u001b[0;32mreturn\u001b[0m \u001b[0mforward_call\u001b[0m\u001b[0;34m(\u001b[0m\u001b[0;34m*\u001b[0m\u001b[0margs\u001b[0m\u001b[0;34m,\u001b[0m \u001b[0;34m**\u001b[0m\u001b[0mkwargs\u001b[0m\u001b[0;34m)\u001b[0m\u001b[0;34m\u001b[0m\u001b[0;34m\u001b[0m\u001b[0m\n\u001b[0m\u001b[1;32m   1502\u001b[0m         \u001b[0;31m# Do not call functions when jit is used\u001b[0m\u001b[0;34m\u001b[0m\u001b[0;34m\u001b[0m\u001b[0m\n\u001b[1;32m   1503\u001b[0m         \u001b[0mfull_backward_hooks\u001b[0m\u001b[0;34m,\u001b[0m \u001b[0mnon_full_backward_hooks\u001b[0m \u001b[0;34m=\u001b[0m \u001b[0;34m[\u001b[0m\u001b[0;34m]\u001b[0m\u001b[0;34m,\u001b[0m \u001b[0;34m[\u001b[0m\u001b[0;34m]\u001b[0m\u001b[0;34m\u001b[0m\u001b[0;34m\u001b[0m\u001b[0m\n",
            "\u001b[0;32m/usr/local/lib/python3.10/dist-packages/torch/nn/modules/batchnorm.py\u001b[0m in \u001b[0;36mforward\u001b[0;34m(self, input)\u001b[0m\n\u001b[1;32m    169\u001b[0m         \u001b[0mused\u001b[0m \u001b[0;32mfor\u001b[0m \u001b[0mnormalization\u001b[0m \u001b[0;34m(\u001b[0m\u001b[0mi\u001b[0m\u001b[0;34m.\u001b[0m\u001b[0me\u001b[0m\u001b[0;34m.\u001b[0m \u001b[0;32min\u001b[0m \u001b[0meval\u001b[0m \u001b[0mmode\u001b[0m \u001b[0mwhen\u001b[0m \u001b[0mbuffers\u001b[0m \u001b[0mare\u001b[0m \u001b[0;32mnot\u001b[0m \u001b[0;32mNone\u001b[0m\u001b[0;34m)\u001b[0m\u001b[0;34m.\u001b[0m\u001b[0;34m\u001b[0m\u001b[0;34m\u001b[0m\u001b[0m\n\u001b[1;32m    170\u001b[0m         \"\"\"\n\u001b[0;32m--> 171\u001b[0;31m         return F.batch_norm(\n\u001b[0m\u001b[1;32m    172\u001b[0m             \u001b[0minput\u001b[0m\u001b[0;34m,\u001b[0m\u001b[0;34m\u001b[0m\u001b[0;34m\u001b[0m\u001b[0m\n\u001b[1;32m    173\u001b[0m             \u001b[0;31m# If buffers are not to be tracked, ensure that they won't be updated\u001b[0m\u001b[0;34m\u001b[0m\u001b[0;34m\u001b[0m\u001b[0m\n",
            "\u001b[0;32m/usr/local/lib/python3.10/dist-packages/torch/nn/functional.py\u001b[0m in \u001b[0;36mbatch_norm\u001b[0;34m(input, running_mean, running_var, weight, bias, training, momentum, eps)\u001b[0m\n\u001b[1;32m   2448\u001b[0m         \u001b[0m_verify_batch_size\u001b[0m\u001b[0;34m(\u001b[0m\u001b[0minput\u001b[0m\u001b[0;34m.\u001b[0m\u001b[0msize\u001b[0m\u001b[0;34m(\u001b[0m\u001b[0;34m)\u001b[0m\u001b[0;34m)\u001b[0m\u001b[0;34m\u001b[0m\u001b[0;34m\u001b[0m\u001b[0m\n\u001b[1;32m   2449\u001b[0m \u001b[0;34m\u001b[0m\u001b[0m\n\u001b[0;32m-> 2450\u001b[0;31m     return torch.batch_norm(\n\u001b[0m\u001b[1;32m   2451\u001b[0m         \u001b[0minput\u001b[0m\u001b[0;34m,\u001b[0m \u001b[0mweight\u001b[0m\u001b[0;34m,\u001b[0m \u001b[0mbias\u001b[0m\u001b[0;34m,\u001b[0m \u001b[0mrunning_mean\u001b[0m\u001b[0;34m,\u001b[0m \u001b[0mrunning_var\u001b[0m\u001b[0;34m,\u001b[0m \u001b[0mtraining\u001b[0m\u001b[0;34m,\u001b[0m \u001b[0mmomentum\u001b[0m\u001b[0;34m,\u001b[0m \u001b[0meps\u001b[0m\u001b[0;34m,\u001b[0m \u001b[0mtorch\u001b[0m\u001b[0;34m.\u001b[0m\u001b[0mbackends\u001b[0m\u001b[0;34m.\u001b[0m\u001b[0mcudnn\u001b[0m\u001b[0;34m.\u001b[0m\u001b[0menabled\u001b[0m\u001b[0;34m\u001b[0m\u001b[0;34m\u001b[0m\u001b[0m\n\u001b[1;32m   2452\u001b[0m     )\n",
            "\u001b[0;31mKeyboardInterrupt\u001b[0m: "
          ]
        }
      ]
    },
    {
      "cell_type": "code",
      "source": [],
      "metadata": {
        "id": "6hMsUOlNwesQ"
      },
      "execution_count": null,
      "outputs": []
    }
  ]
}