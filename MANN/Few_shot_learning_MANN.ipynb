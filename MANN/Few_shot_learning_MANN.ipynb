{
  "cells": [
    {
      "cell_type": "markdown",
      "metadata": {
        "id": "view-in-github",
        "colab_type": "text"
      },
      "source": [
        "<a href=\"https://colab.research.google.com/github/Akhilesh-K-Yadav/Meta-Learning_Projects/blob/main/MANN/Few_shot_learning_MANN.ipynb\" target=\"_parent\"><img src=\"https://colab.research.google.com/assets/colab-badge.svg\" alt=\"Open In Colab\"/></a>"
      ]
    },
    {
      "cell_type": "code",
      "execution_count": 3,
      "metadata": {
        "id": "yBtOajjCyfXp"
      },
      "outputs": [],
      "source": [
        "import numpy as np\n",
        "import torch\n",
        "import torchvision\n",
        "import os\n",
        "import imageio\n",
        "import matplotlib.pyplot as plt\n",
        "from torch.utils.data import Dataset, DataLoader\n",
        "import cv2\n",
        "import random\n",
        "import torch.nn as nn\n",
        "from torch.utils.tensorboard import SummaryWriter\n",
        "writer = SummaryWriter(\"/content/data/\")"
      ]
    },
    {
      "cell_type": "code",
      "execution_count": 4,
      "metadata": {
        "id": "ao-HDPVeAc5p"
      },
      "outputs": [],
      "source": [
        "import pdb"
      ]
    },
    {
      "cell_type": "code",
      "execution_count": 5,
      "metadata": {
        "id": "yJ33_TQFzXFq"
      },
      "outputs": [],
      "source": [
        "DS_PATH = \"/content/data/omniglot-py/images_background\"\n",
        "IMG_SIZE = (28, 28)"
      ]
    },
    {
      "cell_type": "code",
      "execution_count": 6,
      "metadata": {
        "colab": {
          "base_uri": "https://localhost:8080/"
        },
        "id": "VYeL56b04ICl",
        "outputId": "0bfc7776-cdec-4fba-d534-501369252d81"
      },
      "outputs": [
        {
          "output_type": "stream",
          "name": "stdout",
          "text": [
            "Files already downloaded and verified\n"
          ]
        }
      ],
      "source": [
        "dataset = torchvision.datasets.Omniglot(root=\"./data/\", download=True, transform= torchvision.transforms.ToTensor())"
      ]
    },
    {
      "cell_type": "code",
      "execution_count": 7,
      "metadata": {
        "colab": {
          "base_uri": "https://localhost:8080/"
        },
        "id": "76c_tc9Q5MLF",
        "outputId": "bcc3136b-61b8-43cd-fd72-e74f002a6936"
      },
      "outputs": [
        {
          "output_type": "execute_result",
          "data": {
            "text/plain": [
              "Dataset Omniglot\n",
              "    Number of datapoints: 19280\n",
              "    Root location: ./data/omniglot-py\n",
              "    StandardTransform\n",
              "Transform: ToTensor()"
            ]
          },
          "metadata": {},
          "execution_count": 7
        }
      ],
      "source": [
        "dataset"
      ]
    },
    {
      "cell_type": "code",
      "execution_count": 8,
      "metadata": {
        "colab": {
          "base_uri": "https://localhost:8080/"
        },
        "id": "y4nH_F6l6xa_",
        "outputId": "9e276499-c4f2-4e08-9849-86ebb6770adb"
      },
      "outputs": [
        {
          "output_type": "stream",
          "name": "stderr",
          "text": [
            "<ipython-input-8-330856dd61f0>:1: DeprecationWarning: Starting with ImageIO v3 the behavior of this function will switch to that of iio.v3.imread. To keep the current behavior (and make this warning disappear) use `import imageio.v2 as imageio` or call `imageio.v2.imread` directly.\n",
            "  image = imageio.imread(\"/content/data/omniglot-py/images_background/Anglo-Saxon_Futhorc/character01/0296_01.png\")\n"
          ]
        },
        {
          "output_type": "execute_result",
          "data": {
            "text/plain": [
              "(105, 105)"
            ]
          },
          "metadata": {},
          "execution_count": 8
        }
      ],
      "source": [
        "image = imageio.imread(\"/content/data/omniglot-py/images_background/Anglo-Saxon_Futhorc/character01/0296_01.png\")\n",
        "image.shape"
      ]
    },
    {
      "cell_type": "code",
      "execution_count": 9,
      "metadata": {
        "colab": {
          "base_uri": "https://localhost:8080/",
          "height": 451
        },
        "id": "YzjApas08kCd",
        "outputId": "df822cee-5ebc-454f-e3fe-a280585fcf13"
      },
      "outputs": [
        {
          "output_type": "execute_result",
          "data": {
            "text/plain": [
              "<matplotlib.image.AxesImage at 0x783f064fcfa0>"
            ]
          },
          "metadata": {},
          "execution_count": 9
        },
        {
          "output_type": "display_data",
          "data": {
            "text/plain": [
              "<Figure size 640x480 with 1 Axes>"
            ],
            "image/png": "[encoded data removed]"
          },
          "metadata": {}
        }
      ],
      "source": [
        "plt.imshow(image)"
      ]
    },
    {
      "cell_type": "code",
      "execution_count": 10,
      "metadata": {
        "colab": {
          "base_uri": "https://localhost:8080/"
        },
        "id": "gYvJ1bne6vpb",
        "outputId": "1a7e3786-9e73-4478-be3d-7155b2e7f0a2"
      },
      "outputs": [
        {
          "output_type": "execute_result",
          "data": {
            "text/plain": [
              "Array([[255, 255, 255, ..., 255, 255, 255],\n",
              "       [255, 255, 255, ..., 255, 255, 255],\n",
              "       [255, 255, 255, ..., 255, 255, 255],\n",
              "       ...,\n",
              "       [255, 255, 255, ..., 255, 255, 255],\n",
              "       [255, 255, 255, ..., 255, 255, 255],\n",
              "       [255, 255, 255, ..., 255, 255, 255]], dtype=uint8)"
            ]
          },
          "metadata": {},
          "execution_count": 10
        }
      ],
      "source": [
        "image"
      ]
    },
    {
      "cell_type": "code",
      "execution_count": 11,
      "metadata": {
        "colab": {
          "base_uri": "https://localhost:8080/",
          "height": 447
        },
        "id": "tbihWvt456Kc",
        "outputId": "33040093-9964-4b1c-dc22-abb50f47f15b"
      },
      "outputs": [
        {
          "output_type": "execute_result",
          "data": {
            "text/plain": [
              "<matplotlib.image.AxesImage at 0x783f043ee050>"
            ]
          },
          "metadata": {},
          "execution_count": 11
        },
        {
          "output_type": "display_data",
          "data": {
            "text/plain": [
              "<Figure size 640x480 with 1 Axes>"
            ],
            "image/png": "[encoded data removed]"
          },
          "metadata": {}
        }
      ],
      "source": [
        "#img = imageio.imread(filename)\n",
        "image = cv2.resize(image,IMG_SIZE)\n",
        "plt.imshow(image)"
      ]
    },
    {
      "cell_type": "code",
      "execution_count": 12,
      "metadata": {
        "id": "yFQrTYUG_AJ8"
      },
      "outputs": [],
      "source": [
        "def get_images(paths, labels, nb_samples=None, shuffle=True):\n",
        "    \"\"\"\n",
        "    Takes a set of character folders and labels and returns paths to image files\n",
        "    paired with labels.\n",
        "    Args:\n",
        "        paths:  A list of character folders\n",
        "        labels: List or numpy array of same length as paths\n",
        "        nb_samples: Number of images to retrieve per character\n",
        "    Returns:\n",
        "        List of (label, image_path) tuples\n",
        "    \"\"\"\n",
        "    sampler = lambda x: random.sample(x, nb_samples)\n",
        "\n",
        "    t_img_lbl = [(lbl, os.path.join(path, image.decode('UTF-8')))\n",
        "                  for lbl, path in zip(labels, paths)\n",
        "                  for image in sampler(os.listdir(path))]\n",
        "    if shuffle:\n",
        "      random.shuffle(t_img_lbl)\n",
        "\n",
        "    return t_img_lbl"
      ]
    },
    {
      "cell_type": "code",
      "execution_count": 13,
      "metadata": {
        "id": "dWAYCXAZ_Ybx"
      },
      "outputs": [],
      "source": [
        "def image_file_to_array(filename, dim_input):\n",
        "    \"\"\"\n",
        "    Takes an image path and returns numpy array\n",
        "    Args:\n",
        "        filename: Image filename\n",
        "        dim_input: Flattened shape of image\n",
        "    Returns:\n",
        "        1 channel image\n",
        "    \"\"\"\n",
        "    img = imageio.imread(filename)\n",
        "    img = cv2.resize(img,IMG_SIZE)\n",
        "    img = img.reshape([dim_input])\n",
        "    img = img.astype(np.float32) / 255.0\n",
        "\n",
        "    return img\n"
      ]
    },
    {
      "cell_type": "code",
      "execution_count": 14,
      "metadata": {
        "id": "LhGlsl2sAy81"
      },
      "outputs": [],
      "source": [
        "class DataGenerator(object):\n",
        "    \"\"\"\n",
        "    Data Generator capable of generating batches of Omniglot data.\n",
        "    A \"class\" is considered a class of omniglot digits.\n",
        "    \"\"\"\n",
        "\n",
        "    def __init__(self, num_classes, num_samples_per_class, ds_path, img_size):\n",
        "        \"\"\"\n",
        "        Args:\n",
        "            num_classes: Number of classes for classification (K-way)\n",
        "            num_samples_per_class: num samples to generate per class in one batch\n",
        "            batch_size: size of meta batch size (e.g. number of functions)\n",
        "        \"\"\"\n",
        "        self.num_samples_per_class = num_samples_per_class\n",
        "        self.num_classes = num_classes\n",
        "\n",
        "        data_folder = ds_path\n",
        "        self.img_size = img_size\n",
        "\n",
        "        self.dim_input = np.prod(self.img_size)\n",
        "        self.dim_output = self.num_classes\n",
        "\n",
        "\n",
        "        character_folders = [os.path.join(data_folder, family, character)\n",
        "                             for family in os.listdir(data_folder)\n",
        "                             if os.path.isdir(os.path.join(data_folder, family))\n",
        "                             for character in os.listdir(os.path.join(data_folder, family))\n",
        "                             if os.path.isdir(os.path.join(data_folder, family, character))]\n",
        "\n",
        "        np.random.seed(1)\n",
        "        np.random.shuffle(character_folders)\n",
        "        num_val = 100\n",
        "        num_train = 1100\n",
        "        self.metatrain_character_folders = character_folders[: num_train]\n",
        "        self.metaval_character_folders = character_folders[\n",
        "                                         num_train:num_train + num_val]\n",
        "        self.metatest_character_folders = character_folders[\n",
        "                                          num_train + num_val:]\n",
        "\n",
        "    def sample_batch(self, batch_type, batch_size, shuffle=True):\n",
        "        \"\"\"\n",
        "        Samples a batch for training, validation, or testing\n",
        "        Args:\n",
        "            batch_type: train/val/test\n",
        "        Returns:\n",
        "            A a tuple of (1) Image batch and (2) Label batch where\n",
        "            image batch has shape [B, K, N, 784] and label batch has shape [B, K, N, N]\n",
        "            where B is batch size, K is number of samples per class, N is number of classes\n",
        "        \"\"\"\n",
        "        if batch_type == \"train\":\n",
        "            folders = self.metatrain_character_folders\n",
        "        elif batch_type == \"val\":\n",
        "            folders = self.metaval_character_folders\n",
        "        else:\n",
        "            folders = self.metatest_character_folders\n",
        "\n",
        "        B = batch_size\n",
        "        N = self.num_classes\n",
        "        K = self.num_samples_per_class\n",
        "        I = self.dim_input\n",
        "\n",
        "        all_image_batches = []\n",
        "        all_label_batches = []\n",
        "\n",
        "        # 0. Repeat for B batches\n",
        "        for batch in range(B):\n",
        "            # 1. Sample N different classes\n",
        "            n_classes = np.random.choice(folders, N, replace=False)\n",
        "            #print(n_classes)\n",
        "            # 2. Sample and load K images\n",
        "            # Shufle sampled images so\n",
        "            tuples = get_images(n_classes, range(N), nb_samples=K, shuffle=False) # <! False?\n",
        "\n",
        "            images = [image_file_to_array(im, I) for lb,im in tuples]\n",
        "            images = np.stack(images)\n",
        "            images = np.reshape(images, (N, K, I))\n",
        "\n",
        "            #pprint.pprint(tuples)\n",
        "\n",
        "            labels = np.asarray([lb for lb, im in tuples])\n",
        "            labels = np.reshape(labels, (N, K))\n",
        "            labels = np.eye(N)[labels]\n",
        "\n",
        "            #pprint.pprint(tuples)\n",
        "            #pprint.pprint(labels)\n",
        "\n",
        "            labels = np.swapaxes(labels, 0, 1)\n",
        "            images = np.swapaxes(images, 0, 1)\n",
        "            #labels = np.swapaxes(labels, 0, 1)\n",
        "\n",
        "            all_image_batches.append(images)\n",
        "            all_label_batches.append(labels)\n",
        "\n",
        "#             all_image_batches[batch, :, :, :] = images# np.reshape(images, (K, N, I))\n",
        "#             all_label_batches[batch, :, :, :] = labels#np.swapaxes(np.swapaxes(labels, 0,1), 1,2)\n",
        "        all_image_batches = np.stack(all_image_batches)\n",
        "        all_label_batches = np.stack(all_label_batches)\n",
        "        # print(\">> \", all_image_batches.shape)\n",
        "        # print(\">> \", all_label_batches.shape)\n",
        "            #############################\n",
        "        return all_image_batches, all_label_batches"
      ]
    },
    {
      "cell_type": "code",
      "execution_count": 15,
      "metadata": {
        "colab": {
          "base_uri": "https://localhost:8080/"
        },
        "id": "826cM1__zE4d",
        "outputId": "e54578ed-8fce-4b71-cb2a-58927247f544"
      },
      "outputs": [
        {
          "output_type": "stream",
          "name": "stdout",
          "text": [
            "Batch of images of shape: (2, 3, 5, 784)\n",
            "Batch of labels of shape: (2, 3, 5, 5)\n"
          ]
        },
        {
          "output_type": "stream",
          "name": "stderr",
          "text": [
            "<ipython-input-13-70d8abfc66d3>:10: DeprecationWarning: Starting with ImageIO v3 the behavior of this function will switch to that of iio.v3.imread. To keep the current behavior (and make this warning disappear) use `import imageio.v2 as imageio` or call `imageio.v2.imread` directly.\n",
            "  img = imageio.imread(filename)\n"
          ]
        },
        {
          "output_type": "execute_result",
          "data": {
            "text/plain": [
              "(numpy.ndarray, numpy.ndarray)"
            ]
          },
          "metadata": {},
          "execution_count": 15
        }
      ],
      "source": [
        "num_classes=5\n",
        "num_samples_per_class=3\n",
        "\n",
        "data = DataGenerator(num_classes, num_samples_per_class, DS_PATH, IMG_SIZE)\n",
        "\n",
        "images, labels = data.sample_batch('train', batch_size=2, shuffle=False)\n",
        "print(\"Batch of images of shape:\", images.shape)\n",
        "print(\"Batch of labels of shape:\", labels.shape)\n",
        "type(images), type(labels)"
      ]
    },
    {
      "cell_type": "code",
      "execution_count": 16,
      "metadata": {
        "id": "9Ah0EAIIcS-y"
      },
      "outputs": [],
      "source": [
        "hidden_size = 128\n",
        "num_layers = 1\n",
        "learning_rate = 0.001\n",
        "device = torch.device('cuda' if torch.cuda.is_available() else 'cpu')"
      ]
    },
    {
      "cell_type": "code",
      "execution_count": 20,
      "metadata": {
        "id": "86kjwvwsF26k"
      },
      "outputs": [],
      "source": [
        "class MANN(nn.Module):\n",
        "  def __init__(self, num_classes, samples_per_class):\n",
        "    super().__init__()\n",
        "    self.num_classes = num_classes\n",
        "    self.samples_per_class = samples_per_class\n",
        "    self.num_layers = num_layers\n",
        "    self.hidden_size = hidden_size\n",
        "    input_size = num_classes + np.prod(IMG_SIZE)\n",
        "    self.layer1 = nn.LSTM(input_size, hidden_size, num_layers, batch_first=True)\n",
        "    self.layer2 = nn.LSTM(hidden_size, num_classes, batch_first=True)\n",
        "\n",
        "  def forward(self, input_images, input_labels):\n",
        "        \"\"\"\n",
        "        MANN\n",
        "        Args:\n",
        "            input_images: [B, K+1, N, 784] flattened images\n",
        "            labels: [B, K+1, N, N] ground truth labels\n",
        "        Returns:\n",
        "            [B, K+1, N, N] predictions\n",
        "        \"\"\"\n",
        "        #############################\n",
        "        #### YOUR CODE GOES HERE ####\n",
        "        # [:,:,:,784],[:,:,:,5] => [:,:,:,789]\n",
        "        B, K, N, I = input_images.shape\n",
        "        # Zero last N example, corresponding to the K+1 sample\n",
        "        # Note the '-1'+':,' so num of dimensions keeps equal\n",
        "        in_zero = torch.cat([input_labels[:, :-1, :, :], torch.zeros(B,1,N,N)], dim=1)\n",
        "        input_concat = torch.cat([input_images, in_zero], dim=3)\n",
        "        input_concat = torch.reshape(input_concat, [-1, K*N, N + 28*28])\n",
        "\n",
        "        # Set initial hidden states (and cell states for LSTM)\n",
        "        h0_l1 = torch.zeros(1, input_images.size(0), self.hidden_size).to(device)\n",
        "        c0_l1 = torch.zeros(1, input_images.size(0), self.hidden_size).to(device)\n",
        "\n",
        "        h0_l2 = torch.zeros(1, input_images.size(0), self.num_classes).to(device)\n",
        "        c0_l2 = torch.zeros(1, input_images.size(0), self.num_classes).to(device)\n",
        "\n",
        "        out, _ = self.layer1(input_concat.float(), (h0_l1, c0_l1))\n",
        "\n",
        "        out, _ = self.layer2(out, (h0_l2, c0_l2))\n",
        "        out = torch.reshape(out, [-1, K, N, N])\n",
        "        #############################\n",
        "        return out\n",
        "\n",
        "\n"
      ]
    },
    {
      "cell_type": "code",
      "execution_count": 25,
      "metadata": {
        "id": "g7ZGZONTVJ6e"
      },
      "outputs": [],
      "source": [
        "def run_experiment(num_classes=2, num_samples=1, meta_batch_size=1, epochs=500, verbose=True):\n",
        "  model = MANN(num_classes, num_samples + 1)\n",
        "\n",
        "  criterion = nn.CrossEntropyLoss()\n",
        "  optimizer = torch.optim.Adam(model.parameters(), lr=learning_rate)\n",
        "\n",
        "  running_loss = 0.0\n",
        "  running_accuracy = 0.0\n",
        "\n",
        "  #writer.add_graph(model, data.sample_batch(batch_type='train', batch_size=meta_batch_size))\n",
        "\n",
        "  for epoch in range(epochs):\n",
        "    i, l = data.sample_batch(batch_type='train', batch_size=meta_batch_size)\n",
        "    i = torch.tensor(i)\n",
        "    l = torch.tensor(l)\n",
        "    preds = model(i, l)\n",
        "\n",
        "    loss = criterion(preds[:,-1:,:,:], l[:,-1:,:,:])\n",
        "    running_loss += loss.item()\n",
        "\n",
        "    preds = preds[:, -1, :, :].argmax(2)\n",
        "    l = l[:, -1, :, :].argmax(2)\n",
        "    running_accuracy += (1.0 * (preds == l)).mean()\n",
        "\n",
        "    # Backward and optimize\n",
        "    optimizer.zero_grad()\n",
        "    loss.backward()\n",
        "    optimizer.step()\n",
        "\n",
        "    if (epoch+1) % 100 == 0:\n",
        "      accuracy = running_accuracy / (100 * preds.size(0) * preds.size(1))\n",
        "      print (f'Epoch [{epoch+1}/{epochs}] Loss: {loss.item():.4f} Accuracy: {accuracy}')\n",
        "      writer.add_scalar('training loss', running_loss / 100, epoch)\n",
        "      writer.add_scalar('accuracy', accuracy, epoch)\n",
        "      running_accuracy = 0.0\n",
        "      running_loss = 0.0\n",
        "\n",
        "    writer.close()\n",
        "\n"
      ]
    },
    {
      "cell_type": "code",
      "execution_count": null,
      "metadata": {
        "id": "3jP5ubJh_bdV"
      },
      "outputs": [],
      "source": [
        "# Number of classes used in classification (e.g. 5-way classification).\n",
        "num_classes = 5\n",
        "\n",
        "# Number of examples used for inner gradient update (K for K-shot learning)\n",
        "num_samples = 1\n",
        "\n",
        "# Number of N-way classification tasks per batch\n",
        "meta_batch_size = 4\n",
        "\n",
        "run_experiment(num_classes=5, num_samples=1, meta_batch_size=4, epochs=1000)"
      ]
    },
    {
      "cell_type": "code",
      "source": [],
      "metadata": {
        "id": "YxLad5jHP1m8"
      },
      "execution_count": null,
      "outputs": []
    }
  ],
  "metadata": {
    "colab": {
      "provenance": [],
      "authorship_tag": "ABX9TyMs8jcVPJ9v7dSVoqNn3WE2",
      "include_colab_link": true
    },
    "kernelspec": {
      "display_name": "Python 3",
      "name": "python3"
    },
    "language_info": {
      "name": "python"
    }
  },
  "nbformat": 4,
  "nbformat_minor": 0
}