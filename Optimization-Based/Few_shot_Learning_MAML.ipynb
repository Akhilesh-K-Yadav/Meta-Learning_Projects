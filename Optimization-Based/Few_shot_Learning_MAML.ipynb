{
  "nbformat": 4,
  "nbformat_minor": 0,
  "metadata": {
    "colab": {
      "provenance": [],
      "authorship_tag": "ABX9TyPj2J07s/cN6ltSHUlj9JHI",
      "include_colab_link": true
    },
    "kernelspec": {
      "name": "python3",
      "display_name": "Python 3"
    },
    "language_info": {
      "name": "python"
    }
  },
  "cells": [
    {
      "cell_type": "markdown",
      "metadata": {
        "id": "view-in-github",
        "colab_type": "text"
      },
      "source": [
        "<a href=\"https://colab.research.google.com/github/Akhilesh-K-Yadav/Meta-Learning_Projects/blob/main/Optimization-Based/Few_shot_Learning_MAML.ipynb\" target=\"_parent\"><img src=\"https://colab.research.google.com/assets/colab-badge.svg\" alt=\"Open In Colab\"/></a>"
      ]
    },
    {
      "cell_type": "code",
      "execution_count": 33,
      "metadata": {
        "id": "HfKZDX81uDyV"
      },
      "outputs": [],
      "source": [
        "import os\n",
        "import glob\n",
        "\n",
        "import google_drive_downloader as gdd\n",
        "import imageio\n",
        "import numpy as np\n",
        "import torch\n",
        "from torch.utils.data import dataset, sampler, dataloader\n",
        "from torch import nn\n",
        "import torch.nn.functional as F\n",
        "from torch import autograd\n",
        "import matplotlib.pyplot as plt\n",
        "\n",
        "NUM_TRAIN_CLASSES = 1100\n",
        "NUM_VAL_CLASSES = 100\n",
        "NUM_TEST_CLASSES = 423\n",
        "NUM_SAMPLES_PER_CLASS = 20\n",
        "\n",
        "NUM_INPUT_CHANNELS = 1\n",
        "NUM_HIDDEN_CHANNELS = 64\n",
        "KERNEL_SIZE = 3\n",
        "NUM_CONV_LAYERS = 4\n",
        "DEVICE = 'cuda' if torch.cuda.is_available() else 'cpu'\n",
        "NUM_TEST_TASKS = 600\n"
      ]
    },
    {
      "cell_type": "code",
      "source": [
        "BASE_PATH = './omniglot_resized'\n",
        "GDD_FILE_ID = '1iaSFXIYC3AB8q9K_M-oVMa4pmB7yKMtI'\n",
        "gdd.GoogleDriveDownloader.download_file_from_google_drive(\n",
        "                file_id=GDD_FILE_ID,\n",
        "                dest_path=f'{BASE_PATH}.zip',\n",
        "                unzip=True\n",
        "            )"
      ],
      "metadata": {
        "colab": {
          "base_uri": "https://localhost:8080/"
        },
        "id": "0wpmJYdzuomL",
        "outputId": "38415b86-b8f0-4443-e599-5d42b528eabc"
      },
      "execution_count": 2,
      "outputs": [
        {
          "output_type": "stream",
          "name": "stdout",
          "text": [
            "Downloading 1iaSFXIYC3AB8q9K_M-oVMa4pmB7yKMtI into ./omniglot_resized.zip... Done.\n",
            "Unzipping...Done.\n"
          ]
        }
      ]
    },
    {
      "cell_type": "code",
      "source": [
        "def load_image(file_path):\n",
        "    \"\"\"Loads and transforms an Omniglot image.\n",
        "    Args:\n",
        "        file_path (str): file path of image\n",
        "    Returns:\n",
        "        a Tensor containing image data\n",
        "            shape (1, 28, 28)\n",
        "    \"\"\"\n",
        "    x = imageio.imread(file_path)\n",
        "    x = torch.tensor(x, dtype=torch.float32).reshape([1, 28, 28])\n",
        "    x = x / 255.0\n",
        "    return 1 - x"
      ],
      "metadata": {
        "id": "X6o-P5CdvMsp"
      },
      "execution_count": 3,
      "outputs": []
    },
    {
      "cell_type": "code",
      "source": [
        "class OmniglotDataset(dataset.Dataset):\n",
        "    \"\"\"Omniglot dataset for meta-learning.\n",
        "\n",
        "    Each element of the dataset is a task. A task is specified with a key,\n",
        "    which is a tuple of class indices (no particular order). The corresponding\n",
        "    value is the instantiated task, which consists of sampled (image, label)\n",
        "    pairs.\n",
        "    \"\"\"\n",
        "\n",
        "    def __init__(self, num_support, num_query):\n",
        "        \"\"\"Inits OmniglotDataset.\n",
        "\n",
        "        Args:\n",
        "            num_support (int): number of support examples per class\n",
        "            num_query (int): number of query examples per class\n",
        "        \"\"\"\n",
        "        super().__init__()\n",
        "\n",
        "        # get all character folders\n",
        "        self._character_folders = glob.glob(\n",
        "            os.path.join(BASE_PATH, '*/*/'))\n",
        "        assert len(self._character_folders) == (\n",
        "            NUM_TRAIN_CLASSES + NUM_VAL_CLASSES + NUM_TEST_CLASSES\n",
        "        )\n",
        "\n",
        "        # shuffle characters\n",
        "        np.random.default_rng(0).shuffle(self._character_folders)\n",
        "\n",
        "        # check problem arguments\n",
        "        assert num_support + num_query <= NUM_SAMPLES_PER_CLASS\n",
        "        self._num_support = num_support\n",
        "        self._num_query = num_query\n",
        "\n",
        "    def __getitem__(self, class_idxs):\n",
        "        \"\"\"Constructs a task.\n",
        "\n",
        "        Data for each class is sampled uniformly at random without replacement.\n",
        "        The ordering of the labels corresponds to that of class_idxs.\n",
        "\n",
        "        Args:\n",
        "            class_idxs (tuple[int]): class indices that comprise the task\n",
        "\n",
        "        Returns:\n",
        "            images_support (Tensor): task support images\n",
        "                shape (num_way * num_support, channels, height, width)\n",
        "            labels_support (Tensor): task support labels\n",
        "                shape (num_way * num_support,)\n",
        "            images_query (Tensor): task query images\n",
        "                shape (num_way * num_query, channels, height, width)\n",
        "            labels_query (Tensor): task query labels\n",
        "                shape (num_way * num_query,)\n",
        "        \"\"\"\n",
        "        images_support, images_query = [], []\n",
        "        labels_support, labels_query = [], []\n",
        "\n",
        "        for label, class_idx in enumerate(class_idxs):\n",
        "            # get a class's examples and sample from them\n",
        "            all_file_paths = glob.glob(\n",
        "                os.path.join(self._character_folders[class_idx], '*.png')\n",
        "            )\n",
        "            sampled_file_paths = np.random.default_rng().choice(\n",
        "                all_file_paths,\n",
        "                size=self._num_support + self._num_query,\n",
        "                replace=False\n",
        "            )\n",
        "            images = [load_image(file_path) for file_path in sampled_file_paths]\n",
        "\n",
        "            # split sampled examples into support and query\n",
        "            images_support.extend(images[:self._num_support])\n",
        "            images_query.extend(images[self._num_support:])\n",
        "            labels_support.extend([label] * self._num_support)\n",
        "            labels_query.extend([label] * self._num_query)\n",
        "\n",
        "        # aggregate into tensors\n",
        "        images_support = torch.stack(images_support)  # shape (N*S, C, H, W)\n",
        "        labels_support = torch.tensor(labels_support)  # shape (N*S)\n",
        "        images_query = torch.stack(images_query)\n",
        "        labels_query = torch.tensor(labels_query)\n",
        "\n",
        "        return images_support, labels_support, images_query, labels_query\n"
      ],
      "metadata": {
        "id": "a8dqXXMiGEqV"
      },
      "execution_count": 4,
      "outputs": []
    },
    {
      "cell_type": "code",
      "source": [
        "class OmniglotSampler(sampler.Sampler):\n",
        "    \"\"\"Samples task specification keys for an OmniglotDataset.\"\"\"\n",
        "\n",
        "    def __init__(self, split_idxs, num_way, num_tasks):\n",
        "\n",
        "      \"\"\"Inits OmniglotSampler.\n",
        "\n",
        "      Args:\n",
        "          split_idxs (range): indices that comprise the\n",
        "              training/validation/test split\n",
        "          num_way (int): number of classes per task\n",
        "          num_tasks (int): number of tasks to sample\n",
        "      \"\"\"\n",
        "      super().__init__(None)\n",
        "\n",
        "      self.split_idxs = split_idxs\n",
        "      self.num_way = num_way\n",
        "      self.num_tasks = num_tasks\n",
        "\n",
        "    def __iter__(self):\n",
        "      return (\n",
        "          np.random.default_rng().choice(\n",
        "              self.split_idxs,\n",
        "              size=self.num_way,\n",
        "              replace=False\n",
        "          ) for _ in range(self.num_tasks)\n",
        "      )\n",
        "\n",
        "    def __len__(self):\n",
        "        return self.num_tasks"
      ],
      "metadata": {
        "id": "ogefBquxdV0g"
      },
      "execution_count": 18,
      "outputs": []
    },
    {
      "cell_type": "code",
      "source": [
        "def identity(x):\n",
        "    return x\n",
        "\n",
        "def get_omniglot_dataloader(\n",
        "        split,\n",
        "        batch_size,\n",
        "        num_way,\n",
        "        num_support,\n",
        "        num_query,\n",
        "        num_tasks_per_epoch\n",
        "):\n",
        "    \"\"\"Returns a dataloader.DataLoader for Omniglot.\n",
        "\n",
        "    Args:\n",
        "        split (str): one of 'train', 'val', 'test'\n",
        "        batch_size (int): number of tasks per batch\n",
        "        num_way (int): number of classes per task\n",
        "        num_support (int): number of support examples per class\n",
        "        num_query (int): number of query examples per class\n",
        "        num_tasks_per_epoch (int): number of tasks before DataLoader is\n",
        "            exhausted\n",
        "    \"\"\"\n",
        "\n",
        "    if split == 'train':\n",
        "        split_idxs = range(NUM_TRAIN_CLASSES)\n",
        "    elif split == 'val':\n",
        "        split_idxs = range(\n",
        "            NUM_TRAIN_CLASSES,\n",
        "            NUM_TRAIN_CLASSES + NUM_VAL_CLASSES\n",
        "        )\n",
        "    elif split == 'test':\n",
        "        split_idxs = range(\n",
        "            NUM_TRAIN_CLASSES + NUM_VAL_CLASSES,\n",
        "            NUM_TRAIN_CLASSES + NUM_VAL_CLASSES + NUM_TEST_CLASSES\n",
        "        )\n",
        "    else:\n",
        "        raise ValueError\n",
        "\n",
        "    return dataloader.DataLoader(\n",
        "        dataset=OmniglotDataset(num_support, num_query),\n",
        "        batch_size=batch_size,\n",
        "        sampler=OmniglotSampler(split_idxs, num_way, num_tasks_per_epoch),\n",
        "        num_workers=2,\n",
        "        collate_fn=identity,\n",
        "        pin_memory=torch.cuda.is_available(),\n",
        "        drop_last=True\n",
        "    )"
      ],
      "metadata": {
        "id": "PbvVAMUy-4hY"
      },
      "execution_count": 19,
      "outputs": []
    },
    {
      "cell_type": "code",
      "source": [
        "image = imageio.imread(\"/content/omniglot_resized/Alphabet_of_the_Magi/character01/0709_01.png\")\n",
        "image.shape"
      ],
      "metadata": {
        "colab": {
          "base_uri": "https://localhost:8080/"
        },
        "id": "TqXJUyu1HRWE",
        "outputId": "68c18709-2292-40b1-a072-ef2800141e63"
      },
      "execution_count": 20,
      "outputs": [
        {
          "output_type": "stream",
          "name": "stderr",
          "text": [
            "<ipython-input-20-913cf8e1afe4>:1: DeprecationWarning: Starting with ImageIO v3 the behavior of this function will switch to that of iio.v3.imread. To keep the current behavior (and make this warning disappear) use `import imageio.v2 as imageio` or call `imageio.v2.imread` directly.\n",
            "  image = imageio.imread(\"/content/omniglot_resized/Alphabet_of_the_Magi/character01/0709_01.png\")\n"
          ]
        },
        {
          "output_type": "execute_result",
          "data": {
            "text/plain": [
              "(28, 28)"
            ]
          },
          "metadata": {},
          "execution_count": 20
        }
      ]
    },
    {
      "cell_type": "code",
      "source": [
        "samples = get_omniglot_dataloader(\n",
        "        split='train',\n",
        "        batch_size=1,\n",
        "        num_way=4,\n",
        "        num_support=1,\n",
        "        num_query=1,\n",
        "        num_tasks_per_epoch=1\n",
        ")\n",
        "tasks = next(iter(samples))\n",
        "for task in tasks:\n",
        "  images_support, labels_support, images_query, labels_query = task\n",
        "images_support.shape, labels_support.shape, images_query.shape, labels_query.shape"
      ],
      "metadata": {
        "colab": {
          "base_uri": "https://localhost:8080/"
        },
        "id": "zwOIUtCOHmOJ",
        "outputId": "90abb6c8-8545-419d-c96a-46b9024824be"
      },
      "execution_count": 47,
      "outputs": [
        {
          "output_type": "stream",
          "name": "stderr",
          "text": [
            "<ipython-input-3-a6327f0e4a5e>:9: DeprecationWarning: Starting with ImageIO v3 the behavior of this function will switch to that of iio.v3.imread. To keep the current behavior (and make this warning disappear) use `import imageio.v2 as imageio` or call `imageio.v2.imread` directly.\n",
            "  x = imageio.imread(file_path)\n"
          ]
        },
        {
          "output_type": "execute_result",
          "data": {
            "text/plain": [
              "(torch.Size([4, 1, 28, 28]),\n",
              " torch.Size([4]),\n",
              " torch.Size([4, 1, 28, 28]),\n",
              " torch.Size([4]))"
            ]
          },
          "metadata": {},
          "execution_count": 47
        }
      ]
    },
    {
      "cell_type": "code",
      "source": [
        "plt.imshow(images_support[0][0])"
      ],
      "metadata": {
        "colab": {
          "base_uri": "https://localhost:8080/",
          "height": 447
        },
        "id": "zytM404OI-kT",
        "outputId": "6f8375d9-623a-4fc5-e237-40379a5d9e54"
      },
      "execution_count": 48,
      "outputs": [
        {
          "output_type": "execute_result",
          "data": {
            "text/plain": [
              "<matplotlib.image.AxesImage at 0x7cd628048eb0>"
            ]
          },
          "metadata": {},
          "execution_count": 48
        },
        {
          "output_type": "display_data",
          "data": {
            "text/plain": [
              "<Figure size 640x480 with 1 Axes>"
            ],
            "image/png": "[encoded data removed]"
          },
          "metadata": {}
        }
      ]
    },
    {
      "cell_type": "code",
      "source": [
        "labels_support"
      ],
      "metadata": {
        "colab": {
          "base_uri": "https://localhost:8080/"
        },
        "id": "cWZ8ZeLtMjlL",
        "outputId": "b1f1a1e8-a038-477c-a54b-b52c86de41f3"
      },
      "execution_count": 49,
      "outputs": [
        {
          "output_type": "execute_result",
          "data": {
            "text/plain": [
              "tensor([0, 1, 2, 3])"
            ]
          },
          "metadata": {},
          "execution_count": 49
        }
      ]
    },
    {
      "cell_type": "code",
      "source": [
        "def score(logits, labels):\n",
        "    \"\"\"Returns the mean accuracy of a model's predictions on a set of examples.\n",
        "\n",
        "    Args:\n",
        "        logits (torch.Tensor): model predicted logits\n",
        "            shape (examples, classes)\n",
        "        labels (torch.Tensor): classification labels from 0 to num_classes - 1\n",
        "            shape (examples,)\n",
        "    \"\"\"\n",
        "\n",
        "    assert logits.dim() == 2\n",
        "    assert labels.dim() == 1\n",
        "    assert logits.shape[0] == labels.shape[0]\n",
        "    y = torch.argmax(logits, dim=-1) == labels\n",
        "    y = y.type(torch.float)\n",
        "    return torch.mean(y).item()"
      ],
      "metadata": {
        "id": "uoQAD2PyOml3"
      },
      "execution_count": null,
      "outputs": []
    },
    {
      "cell_type": "code",
      "source": [
        "class MAML:\n",
        "    \"\"\"Trains and assesses a MAML.\"\"\"\n",
        "\n",
        "    def __init__(\n",
        "            self,\n",
        "            num_outputs,\n",
        "            num_inner_steps,\n",
        "            inner_lr,\n",
        "            learn_inner_lrs,\n",
        "            outer_lr,\n",
        "            log_dir\n",
        "    ):\n",
        "        \"\"\"Inits MAML.\n",
        "\n",
        "        The network consists of four convolutional blocks followed by a linear\n",
        "        head layer. Each convolutional block comprises a convolution layer, a\n",
        "        batch normalization layer, and ReLU activation.\n",
        "\n",
        "        Note that unlike conventional use, batch normalization is always done\n",
        "        with batch statistics, regardless of whether we are training or\n",
        "        evaluating. This technically makes meta-learning transductive, as\n",
        "        opposed to inductive.\n",
        "\n",
        "        Args:\n",
        "            num_outputs (int): dimensionality of output, i.e. number of classes\n",
        "                in a task\n",
        "            num_inner_steps (int): number of inner-loop optimization steps\n",
        "            inner_lr (float): learning rate for inner-loop optimization\n",
        "                If learn_inner_lrs=True, inner_lr serves as the initialization\n",
        "                of the learning rates.\n",
        "            learn_inner_lrs (bool): whether to learn the above\n",
        "            outer_lr (float): learning rate for outer-loop optimization\n",
        "            log_dir (str): path to logging directory\n",
        "        \"\"\"\n",
        "        meta_parameters = {}\n",
        "\n",
        "        # construct feature extractor\n",
        "        in_channels = NUM_INPUT_CHANNELS\n",
        "        for i in range(NUM_CONV_LAYERS):\n",
        "            meta_parameters[f'conv{i}'] = nn.init.xavier_uniform_(\n",
        "                torch.empty(\n",
        "                    NUM_HIDDEN_CHANNELS,\n",
        "                    in_channels,\n",
        "                    KERNEL_SIZE,\n",
        "                    KERNEL_SIZE,\n",
        "                    requires_grad=True,\n",
        "                    device=DEVICE\n",
        "                )\n",
        "            )\n",
        "            meta_parameters[f'b{i}'] = nn.init.zeros_(\n",
        "                torch.empty(\n",
        "                    NUM_HIDDEN_CHANNELS,\n",
        "                    requires_grad=True,\n",
        "                    device=DEVICE\n",
        "                )\n",
        "            )\n",
        "            in_channels = NUM_HIDDEN_CHANNELS\n",
        "\n",
        "        # construct linear head layer\n",
        "        meta_parameters[f'w{NUM_CONV_LAYERS}'] = nn.init.xavier_uniform_(\n",
        "            torch.empty(\n",
        "                num_outputs,\n",
        "                NUM_HIDDEN_CHANNELS,\n",
        "                requires_grad=True,\n",
        "                device=DEVICE\n",
        "            )\n",
        "        )\n",
        "        meta_parameters[f'b{NUM_CONV_LAYERS}'] = nn.init.zeros_(\n",
        "            torch.empty(\n",
        "                num_outputs,\n",
        "                requires_grad=True,\n",
        "                device=DEVICE\n",
        "            )\n",
        "        )\n",
        "\n",
        "        self._meta_parameters = meta_parameters\n",
        "        self._num_inner_steps = num_inner_steps\n",
        "        self._inner_lrs = {\n",
        "            k: torch.tensor(inner_lr, requires_grad=learn_inner_lrs)\n",
        "            for k in self._meta_parameters.keys()\n",
        "        }\n",
        "        self._outer_lr = outer_lr\n",
        "\n",
        "        self._optimizer = torch.optim.Adam(\n",
        "            list(self._meta_parameters.values()) +\n",
        "            list(self._inner_lrs.values()),\n",
        "            lr=self._outer_lr\n",
        "        )\n",
        "        # self._log_dir = log_dir\n",
        "        # os.makedirs(self._log_dir, exist_ok=True)\n",
        "\n",
        "        self._start_train_step = 0\n",
        "\n",
        "    def _forward(self, images, parameters):\n",
        "        \"\"\"Computes predicted classification logits.\n",
        "\n",
        "        Args:\n",
        "            images (Tensor): batch of Omniglot images\n",
        "                shape (num_images, channels, height, width)\n",
        "            parameters (dict[str, Tensor]): parameters to use for\n",
        "                the computation\n",
        "\n",
        "        Returns:\n",
        "            a Tensor consisting of a batch of logits\n",
        "                shape (num_images, classes)\n",
        "        \"\"\"\n",
        "        x = images\n",
        "        for i in range(NUM_CONV_LAYERS):\n",
        "            x = F.conv2d(\n",
        "                input=x,\n",
        "                weight=parameters[f'conv{i}'],\n",
        "                bias=parameters[f'b{i}'],\n",
        "                stride=1,\n",
        "                padding='same'\n",
        "            )\n",
        "            x = F.batch_norm(x, None, None, training=True)\n",
        "            x = F.relu(x)\n",
        "        x = torch.mean(x, dim=[2, 3])\n",
        "        return F.linear(\n",
        "            input=x,\n",
        "            weight=parameters[f'w{NUM_CONV_LAYERS}'],\n",
        "            bias=parameters[f'b{NUM_CONV_LAYERS}']\n",
        "        )\n",
        "\n",
        "    def _inner_loop(self, images, labels, train):\n",
        "        \"\"\"Computes the adapted network parameters via the MAML inner loop.\n",
        "\n",
        "        Args:\n",
        "            images (Tensor): task support set inputs\n",
        "                shape (num_images, channels, height, width)\n",
        "            labels (Tensor): task support set outputs\n",
        "                shape (num_images,)\n",
        "            train (bool): whether we are training or evaluating (not necessary?)\n",
        "\n",
        "        Returns:\n",
        "            parameters (dict[str, Tensor]): adapted network parameters\n",
        "            accuracies (list[float]): support set accuracy over the course of\n",
        "                the inner loop, length num_inner_steps + 1\n",
        "        \"\"\"\n",
        "        accuracies = []\n",
        "        parameters = {\n",
        "            k: torch.clone(v)\n",
        "            for k, v in self._meta_parameters.items()\n",
        "        }\n",
        "        # This method computes the inner loop (adaptation) procedure for one\n",
        "        # task. It also scores the model along the way.\n",
        "        # Populate accuracies and update parameters.\n",
        "        # F.cross_entropy to compute classification losses.\n",
        "        # score() to compute accuracies.\n",
        "\n",
        "        # here we are doing \\phi_i = \\theta - inner_lr * grad(\\theta, L, D_{tr})\n",
        "        for _ in range(self._num_inner_steps):\n",
        "            logits = self._forward(images, parameters)\n",
        "            loss = F.cross_entropy(logits, labels)\n",
        "\n",
        "            # create graph due to computing second order derivatives in MAML\n",
        "            gradients = autograd.grad(\n",
        "                loss, parameters.values(), create_graph=True)\n",
        "\n",
        "            # update parameters\n",
        "            for i in range(len(parameters.keys())):\n",
        "                k = list(parameters.keys())[i]\n",
        "                v = list(parameters.values())[i]\n",
        "                assert v.shape == gradients[i].shape, 'Not proper shape'\n",
        "\n",
        "                parameters[k] = v - self._inner_lrs[k] * gradients[i]\n",
        "\n",
        "            acc = score(logits, labels)\n",
        "            accuracies.append(acc)\n",
        "\n",
        "        final_logits = self._forward(images, parameters)\n",
        "        final_acc = score(final_logits, labels)\n",
        "        accuracies.append(final_acc)\n",
        "        return parameters, accuracies\n",
        "\n",
        "    def _outer_step(self, task_batch, train):\n",
        "        \"\"\"Computes the MAML loss and metrics on a batch of tasks.\n",
        "\n",
        "        Args:\n",
        "            task_batch (tuple): batch of tasks from an Omniglot DataLoader\n",
        "            train (bool): whether we are training or evaluating\n",
        "\n",
        "        Returns:\n",
        "            outer_loss (Tensor): mean MAML loss over the batch, scalar\n",
        "            accuracies_support (ndarray): support set accuracy over the\n",
        "                course of the inner loop, averaged over the task batch\n",
        "                shape (num_inner_steps + 1,)\n",
        "            accuracy_query (float): query set accuracy of the adapted\n",
        "                parameters, averaged over the task batch\n",
        "        \"\"\"\n",
        "        outer_loss_batch = []\n",
        "        accuracies_support_batch = []\n",
        "        accuracy_query_batch = []\n",
        "        for task in task_batch:\n",
        "            images_support, labels_support, images_query, labels_query = task\n",
        "            images_support = images_support.to(DEVICE)\n",
        "            labels_support = labels_support.to(DEVICE)\n",
        "            images_query = images_query.to(DEVICE)\n",
        "            labels_query = labels_query.to(DEVICE)\n",
        "            # For a given task, use the _inner_loop method to adapt, then\n",
        "            # compute the MAML loss and other metrics.\n",
        "            # F.cross_entropy to compute classification losses.\n",
        "            # score() to compute accuracies.\n",
        "            # Populate outer_loss_batch, accuracies_support_batch,\n",
        "            # and accuracy_query_batch.\n",
        "\n",
        "            # computes \\phi_L\n",
        "            parameters, supp_accs = self._inner_loop(\n",
        "                images_support, labels_support, train)\n",
        "\n",
        "            # gets the loss w.r.t. \\phi_L\n",
        "            logits = self._forward(images_query, parameters)\n",
        "            loss = F.cross_entropy(logits, labels_query)\n",
        "            outer_loss_batch.append(loss)\n",
        "\n",
        "            accuracies_support_batch.append(supp_accs)\n",
        "            q_accs = score(logits, labels_query)\n",
        "            accuracy_query_batch.append(q_accs)\n",
        "\n",
        "        outer_loss = torch.mean(torch.stack(outer_loss_batch))\n",
        "        accuracies_support = np.mean(\n",
        "            accuracies_support_batch,\n",
        "            axis=0\n",
        "        )\n",
        "        accuracy_query = np.mean(accuracy_query_batch)\n",
        "        return outer_loss, accuracies_support, accuracy_query"
      ],
      "metadata": {
        "id": "aeQ39GcTQTAC"
      },
      "execution_count": null,
      "outputs": []
    }
  ]
}